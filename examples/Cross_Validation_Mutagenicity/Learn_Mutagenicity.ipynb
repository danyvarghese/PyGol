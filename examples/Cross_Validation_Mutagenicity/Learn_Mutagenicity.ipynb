{
 "cells": [
  {
   "cell_type": "markdown",
   "id": "04a296fb",
   "metadata": {},
   "source": [
    "<center><font color=\"blue\"> <h1>Mutagenicity Dataset</h1></center>\n",
    "\n",
    "\n",
    "    \n",
    "In this eperiment I will look at the Mutagenicity Dataset as initially described in the following PNAS paper:\n",
    "    \n",
    "R.D. King, S.H. Muggleton, A. Srinivasan, and M.J.E. Sternberg. Structure-activity relationships derived by machine learning: the use of atoms and their bond connectives to predict mutagenicity by Inductive Logic Programming. Proceedings of the National Academy of Sciences, 93:438-442, 1996.\n",
    "https://www.doc.ic.ac.uk/~shm/Papers/pnas96.pdf\n",
    "    \n",
    "Some drugs are mutagenicity active which means that they could lead to cancer. The aim of the machine learning task is to build a set of rules for predicting Mutagenicity of chemical compounds, using a set of known active and inactive molecules as positive and negative examples and the properties of the molecules (e.g. atom-bound structures) as the background knowledge. \n",
    "    \n",
    "<img src=\"image-1.png\" style=\"width:200px;height:300px;\">\n",
    "\n",
    "The examples and the background knowledge have been encoded as relations in First-Order Logic. For examples, the following molecule (d1):\n",
    "    \n",
    "<img src=\"image-2.png\" style=\"width:200px;height:300px;\">\n",
    "    \n",
    "has been encoded using the following relations:\n",
    "    \n",
    "```    \n",
    "atm(1, cl).\n",
    "atm(2, c). \n",
    "atm(3, c). \n",
    "atm(4, c).\n",
    "atm(5, c). \n",
    "atm(6, c).\n",
    "atm(8, o).\n",
    "...\n",
    "bond(3, 4, s). \n",
    "bond(1, 2, s). \n",
    "bond(2, 3, d).\n",
    "…\n",
    "```  \n",
    "\n",
    "and after Adding molecule id, atom type (21, 52, ..), e-charge (0.297, ..) and bond type (single or double) we have:   \n",
    "    \n",
    "```  \n",
    "atm(d1, d1_1, cl, 21, 0.297).\n",
    "atm(d1, d1_2, c, 21, 0187). \n",
    "atm(d1, d1_3, c, 21, -0.143). \n",
    "atm(d1, d1_4, c, 21, -0.143).\n",
    "atm(d1, d1_5, c, 21, -0.143). \n",
    "atm(d1, d1_6, c, 21, -0.143).\n",
    "atm(d1, d1_8, o, 52, 0.98).\n",
    "...\n",
    "bond(d1, d1_3, d1_4, s). \n",
    "bond(d1, d1_1, d1_2, s). \n",
    "bond(d1, d1_2, d1_3, d).\n",
    "...\n",
    "```    \n",
    " \n",
    "Additional chemical functional groups and background knowledge, e.g Benzene rings can be also added. Table below shows some the rules from the 188 dataset used in PNAS paper mentioned above (the head of each rule is 'a molecule is mutagenecity active if'):\n",
    "    \n",
    "<img src=\"image-3.png\" style=\"width:700px;height:500px;\">"
   ]
  },
  {
   "cell_type": "markdown",
   "id": "e82efa00",
   "metadata": {},
   "source": [
    "### Import package from root folder"
   ]
  },
  {
   "cell_type": "code",
   "execution_count": 1,
   "id": "868e3167",
   "metadata": {},
   "outputs": [],
   "source": [
    "import sys\n",
    "sys.path.insert(0, '../../')\n",
    "from PyGol import *"
   ]
  },
  {
   "cell_type": "markdown",
   "id": "57f41a2f",
   "metadata": {},
   "source": [
    "### Pre-Processing\n",
    "1. Define the constants\n",
    "2. Generate the bottom clauses"
   ]
  },
  {
   "cell_type": "code",
   "execution_count": 2,
   "id": "3a7031ac",
   "metadata": {},
   "outputs": [
    {
     "name": "stderr",
     "output_type": "stream",
     "text": [
      "100%|█████████████████████████████████████████| 125/125 [00:04<00:00, 25.91it/s]\n",
      "100%|███████████████████████████████████████████| 63/63 [00:01<00:00, 34.90it/s]\n"
     ]
    }
   ],
   "source": [
    "constant_1=['a','c','h','o','n','cl']\n",
    "P, N = bottom_clause_generation( file=\"BK.pl\", constant_set = constant_1,  container = \"memory\",positive_example=\"pos_example.f\", negative_example=\"neg_example.n\")"
   ]
  },
  {
   "cell_type": "markdown",
   "id": "41670df1",
   "metadata": {},
   "source": [
    "### Fold Preperation"
   ]
  },
  {
   "cell_type": "code",
   "execution_count": 3,
   "id": "551d9213",
   "metadata": {},
   "outputs": [],
   "source": [
    "folds=pygol_folds(folds=10)"
   ]
  },
  {
   "cell_type": "markdown",
   "id": "31f721eb",
   "metadata": {},
   "source": [
    "### Modelling"
   ]
  },
  {
   "cell_type": "code",
   "execution_count": 4,
   "id": "7c634a8f",
   "metadata": {
    "scrolled": true
   },
   "outputs": [
    {
     "name": "stderr",
     "output_type": "stream",
     "text": [
      "100%|█████████████████████████████████████████| 112/112 [00:03<00:00, 33.68it/s]\n",
      "100%|███████████████████████████████████████████| 56/56 [00:00<00:00, 68.64it/s]\n"
     ]
    },
    {
     "name": "stdout",
     "output_type": "stream",
     "text": [
      "+----------+ Hypothesis +----------+\n",
      "['active(A):-ind1(A,1.0)', 'active(A):-atm(A,B,c,22,-0.12),bond(A,C,D,2)', 'active(A):-atm(A,B,h,3,0.108)', 'active(A):-atm(A,B,n,34,-0.384)', 'active(A):-atm(A,B,c,10,-0.096),bond(A,B,C,1)', 'active(A):-atm(A,B,c,27,0.016),bond(A,C,B,7)', 'active(A):-atm(A,B,c,22,-0.116),bond(A,C,B,1)', 'active(A):-logp(A,1.49)', 'active(A):-logp(A,3)', 'active(A):-atm(A,B,c,29,0.014),bond(A,B,C,1)', 'active(A):-logp(A,2.52)', 'active(A):-atm(A,B,n,38,0.817),bond(A,B,C,1)', 'active(A):-carbon_5_aromatic_ring(A,B)']\n",
      "+----------+ Training +----------+\n",
      "+---------------------+------------------+------------------+\n",
      "|       n = 168       | Positive(Actual) | Negative(Actual) |\n",
      "+=====================+==================+==================+\n",
      "| Positive(Predicted) | 110              | 9                |\n",
      "+---------------------+------------------+------------------+\n",
      "| Negative(Predicted) | 2                | 47               |\n",
      "+---------------------+------------------+------------------+\n",
      "+-------------+-------+\n",
      "|   Metric    |   #   |\n",
      "+=============+=======+\n",
      "| Accuracy    | 0.935 |\n",
      "+-------------+-------+\n",
      "| Precision   | 0.924 |\n",
      "+-------------+-------+\n",
      "| Sensitivity | 0.982 |\n",
      "+-------------+-------+\n",
      "| Specificity | 0.839 |\n",
      "+-------------+-------+\n",
      "| F1 Score    | 0.952 |\n",
      "+-------------+-------+\n",
      "+----------+ Testing +----------+\n",
      "+---------------------+------------------+------------------+\n",
      "|       n = 20        | Positive(Actual) | Negative(Actual) |\n",
      "+=====================+==================+==================+\n",
      "| Positive(Predicted) | 11               | 1                |\n",
      "+---------------------+------------------+------------------+\n",
      "| Negative(Predicted) | 2                | 6                |\n",
      "+---------------------+------------------+------------------+\n",
      "+-------------+-------+\n",
      "|   Metric    |   #   |\n",
      "+=============+=======+\n",
      "| Accuracy    | 0.850 |\n",
      "+-------------+-------+\n",
      "| Precision   | 0.917 |\n",
      "+-------------+-------+\n",
      "| Sensitivity | 0.846 |\n",
      "+-------------+-------+\n",
      "| Specificity | 0.857 |\n",
      "+-------------+-------+\n",
      "| F1 Score    | 0.880 |\n",
      "+-------------+-------+\n"
     ]
    },
    {
     "name": "stderr",
     "output_type": "stream",
     "text": [
      "100%|████████████████████████████████████████| 112/112 [00:00<00:00, 337.57it/s]\n",
      "100%|██████████████████████████████████████████| 56/56 [00:00<00:00, 655.91it/s]\n"
     ]
    },
    {
     "name": "stdout",
     "output_type": "stream",
     "text": [
      "+----------+ Hypothesis +----------+\n",
      "['active(A):-ind1(A,1.0)', 'active(A):-logp(A,3)', 'active(A):-atm(A,B,h,3,0.108),bond(A,C,D,1)', 'active(A):-atm(A,B,c,22,-0.12),bond(A,B,C,7)', 'active(A):-atm(A,B,c,22,-0.116),bond(A,C,B,1)', 'active(A):-atm(A,B,c,10,-0.096),bond(A,C,D,2)', 'active(A):-atm(A,B,h,1,0.315),bond(A,C,D,1)', 'active(A):-atm(A,B,n,38,0.817),bond(A,C,D,2)', 'active(A):-atm(A,B,n,38,0.814),bond(A,C,B,1)', 'active(A):-logp(A,2.52)', 'active(A):-atm(A,B,o,40,-0.389),bond(A,B,C,2)', 'active(A):-carbon_5_aromatic_ring(A,B)']\n",
      "+----------+ Training +----------+\n",
      "+---------------------+------------------+------------------+\n",
      "|       n = 168       | Positive(Actual) | Negative(Actual) |\n",
      "+=====================+==================+==================+\n",
      "| Positive(Predicted) | 109              | 9                |\n",
      "+---------------------+------------------+------------------+\n",
      "| Negative(Predicted) | 3                | 47               |\n",
      "+---------------------+------------------+------------------+\n",
      "+-------------+-------+\n",
      "|   Metric    |   #   |\n",
      "+=============+=======+\n",
      "| Accuracy    | 0.929 |\n",
      "+-------------+-------+\n",
      "| Precision   | 0.924 |\n",
      "+-------------+-------+\n",
      "| Sensitivity | 0.973 |\n",
      "+-------------+-------+\n",
      "| Specificity | 0.839 |\n",
      "+-------------+-------+\n",
      "| F1 Score    | 0.948 |\n",
      "+-------------+-------+\n",
      "+----------+ Testing +----------+\n",
      "+---------------------+------------------+------------------+\n",
      "|       n = 20        | Positive(Actual) | Negative(Actual) |\n",
      "+=====================+==================+==================+\n",
      "| Positive(Predicted) | 13               | 2                |\n",
      "+---------------------+------------------+------------------+\n",
      "| Negative(Predicted) | 0                | 5                |\n",
      "+---------------------+------------------+------------------+\n",
      "+-------------+-------+\n",
      "|   Metric    |   #   |\n",
      "+=============+=======+\n",
      "| Accuracy    | 0.900 |\n",
      "+-------------+-------+\n",
      "| Precision   | 0.867 |\n",
      "+-------------+-------+\n",
      "| Sensitivity | 1     |\n",
      "+-------------+-------+\n",
      "| Specificity | 0.714 |\n",
      "+-------------+-------+\n",
      "| F1 Score    | 0.929 |\n",
      "+-------------+-------+\n"
     ]
    },
    {
     "name": "stderr",
     "output_type": "stream",
     "text": [
      "100%|████████████████████████████████████| 112/112 [00:00<00:00, 1695891.87it/s]\n",
      "100%|██████████████████████████████████████| 56/56 [00:00<00:00, 1072516.09it/s]"
     ]
    },
    {
     "name": "stdout",
     "output_type": "stream",
     "text": [
      "+----------+ Hypothesis +----------+\n",
      "['active(A):-ind1(A,1.0)', 'active(A):-atm(A,B,c,22,-0.12),bond(A,C,D,2)', 'active(A):-atm(A,B,h,3,0.108),bond(A,C,D,7)', 'active(A):-logp(A,3)', 'active(A):-atm(A,B,c,10,-0.096),bond(A,B,C,1)', 'active(A):-atm(A,B,c,29,0.014),bond(A,B,C,1)', 'active(A):-atm(A,B,h,3,0.115),bond(A,C,D,1)', 'active(A):-logp(A,1.49)', 'active(A):-logp(A,2.52)', 'active(A):-atm(A,B,n,38,0.817),bond(A,C,D,2)']\n"
     ]
    },
    {
     "name": "stderr",
     "output_type": "stream",
     "text": [
      "\n"
     ]
    },
    {
     "name": "stdout",
     "output_type": "stream",
     "text": [
      "+----------+ Training +----------+\n",
      "+---------------------+------------------+------------------+\n",
      "|       n = 168       | Positive(Actual) | Negative(Actual) |\n",
      "+=====================+==================+==================+\n",
      "| Positive(Predicted) | 109              | 9                |\n",
      "+---------------------+------------------+------------------+\n",
      "| Negative(Predicted) | 3                | 47               |\n",
      "+---------------------+------------------+------------------+\n",
      "+-------------+-------+\n",
      "|   Metric    |   #   |\n",
      "+=============+=======+\n",
      "| Accuracy    | 0.929 |\n",
      "+-------------+-------+\n",
      "| Precision   | 0.924 |\n",
      "+-------------+-------+\n",
      "| Sensitivity | 0.973 |\n",
      "+-------------+-------+\n",
      "| Specificity | 0.839 |\n",
      "+-------------+-------+\n",
      "| F1 Score    | 0.948 |\n",
      "+-------------+-------+\n",
      "+----------+ Testing +----------+\n",
      "+---------------------+------------------+------------------+\n",
      "|       n = 20        | Positive(Actual) | Negative(Actual) |\n",
      "+=====================+==================+==================+\n",
      "| Positive(Predicted) | 11               | 1                |\n",
      "+---------------------+------------------+------------------+\n",
      "| Negative(Predicted) | 2                | 6                |\n",
      "+---------------------+------------------+------------------+\n",
      "+-------------+-------+\n",
      "|   Metric    |   #   |\n",
      "+=============+=======+\n",
      "| Accuracy    | 0.850 |\n",
      "+-------------+-------+\n",
      "| Precision   | 0.917 |\n",
      "+-------------+-------+\n",
      "| Sensitivity | 0.846 |\n",
      "+-------------+-------+\n",
      "| Specificity | 0.857 |\n",
      "+-------------+-------+\n",
      "| F1 Score    | 0.880 |\n",
      "+-------------+-------+\n"
     ]
    },
    {
     "name": "stderr",
     "output_type": "stream",
     "text": [
      "100%|████████████████████████████████████| 112/112 [00:00<00:00, 1365587.35it/s]\n",
      "100%|███████████████████████████████████████| 57/57 [00:00<00:00, 983849.09it/s]"
     ]
    },
    {
     "name": "stdout",
     "output_type": "stream",
     "text": [
      "+----------+ Hypothesis +----------+\n",
      "['active(A):-ind1(A,1.0)', 'active(A):-atm(A,B,h,3,0.14),bond(A,C,D,7)', 'active(A):-logp(A,2.74)', 'active(A):-atm(A,B,c,26,0.315),bond(A,C,D,7)', 'active(A):-atm(A,B,c,29,0.014),bond(A,C,D,1)', 'active(A):-logp(A,1.49)', 'active(A):-logp(A,3)', 'active(A):-atm(A,B,n,38,0.817),bond(A,C,B,2)', 'active(A):-logp(A,2.52)', 'active(A):-atm(A,B,n,38,0.817),bond(A,C,D,1)', 'active(A):-logp(A,4.18)', 'active(A):-ring_size_5(A,B),carbon_5_aromatic_ring(A,B)']\n"
     ]
    },
    {
     "name": "stderr",
     "output_type": "stream",
     "text": [
      "\n"
     ]
    },
    {
     "name": "stdout",
     "output_type": "stream",
     "text": [
      "+----------+ Training +----------+\n",
      "+---------------------+------------------+------------------+\n",
      "|       n = 169       | Positive(Actual) | Negative(Actual) |\n",
      "+=====================+==================+==================+\n",
      "| Positive(Predicted) | 108              | 7                |\n",
      "+---------------------+------------------+------------------+\n",
      "| Negative(Predicted) | 4                | 50               |\n",
      "+---------------------+------------------+------------------+\n",
      "+-------------+-------+\n",
      "|   Metric    |   #   |\n",
      "+=============+=======+\n",
      "| Accuracy    | 0.935 |\n",
      "+-------------+-------+\n",
      "| Precision   | 0.939 |\n",
      "+-------------+-------+\n",
      "| Sensitivity | 0.964 |\n",
      "+-------------+-------+\n",
      "| Specificity | 0.877 |\n",
      "+-------------+-------+\n",
      "| F1 Score    | 0.952 |\n",
      "+-------------+-------+\n",
      "+----------+ Testing +----------+\n",
      "+---------------------+------------------+------------------+\n",
      "|       n = 19        | Positive(Actual) | Negative(Actual) |\n",
      "+=====================+==================+==================+\n",
      "| Positive(Predicted) | 12               | 2                |\n",
      "+---------------------+------------------+------------------+\n",
      "| Negative(Predicted) | 1                | 4                |\n",
      "+---------------------+------------------+------------------+\n",
      "+-------------+-------+\n",
      "|   Metric    |   #   |\n",
      "+=============+=======+\n",
      "| Accuracy    | 0.842 |\n",
      "+-------------+-------+\n",
      "| Precision   | 0.857 |\n",
      "+-------------+-------+\n",
      "| Sensitivity | 0.923 |\n",
      "+-------------+-------+\n",
      "| Specificity | 0.667 |\n",
      "+-------------+-------+\n",
      "| F1 Score    | 0.889 |\n",
      "+-------------+-------+\n"
     ]
    },
    {
     "name": "stderr",
     "output_type": "stream",
     "text": [
      "100%|████████████████████████████████████| 112/112 [00:00<00:00, 1436581.19it/s]\n",
      "100%|███████████████████████████████████████| 57/57 [00:00<00:00, 863087.83it/s]"
     ]
    },
    {
     "name": "stdout",
     "output_type": "stream",
     "text": [
      "+----------+ Hypothesis +----------+\n",
      "['active(A):-ind1(A,1.0)', 'active(A):-logp(A,2.74)', 'active(A):-atm(A,B,o,40,-0.384),bond(A,B,C,2)', 'active(A):-atm(A,B,n,34,-0.384),bond(A,B,C,7)', 'active(A):-atm(A,B,c,22,0.004),bond(A,C,D,1)', 'active(A):-atm(A,B,c,29,0.014),bond(A,C,B,1)', 'active(A):-atm(A,B,n,38,0.81),bond(A,C,D,2)', 'active(A):-logp(A,3)', 'active(A):-logp(A,2.52)', 'active(A):-atm(A,B,n,38,0.817),bond(A,C,B,1)', 'active(A):-ring_size_5(A,B),carbon_5_aromatic_ring(A,B)']\n"
     ]
    },
    {
     "name": "stderr",
     "output_type": "stream",
     "text": [
      "\n"
     ]
    },
    {
     "name": "stdout",
     "output_type": "stream",
     "text": [
      "+----------+ Training +----------+\n",
      "+---------------------+------------------+------------------+\n",
      "|       n = 169       | Positive(Actual) | Negative(Actual) |\n",
      "+=====================+==================+==================+\n",
      "| Positive(Predicted) | 107              | 12               |\n",
      "+---------------------+------------------+------------------+\n",
      "| Negative(Predicted) | 5                | 45               |\n",
      "+---------------------+------------------+------------------+\n",
      "+-------------+-------+\n",
      "|   Metric    |   #   |\n",
      "+=============+=======+\n",
      "| Accuracy    | 0.899 |\n",
      "+-------------+-------+\n",
      "| Precision   | 0.899 |\n",
      "+-------------+-------+\n",
      "| Sensitivity | 0.955 |\n",
      "+-------------+-------+\n",
      "| Specificity | 0.789 |\n",
      "+-------------+-------+\n",
      "| F1 Score    | 0.926 |\n",
      "+-------------+-------+\n",
      "+----------+ Testing +----------+\n",
      "+---------------------+------------------+------------------+\n",
      "|       n = 19        | Positive(Actual) | Negative(Actual) |\n",
      "+=====================+==================+==================+\n",
      "| Positive(Predicted) | 13               | 1                |\n",
      "+---------------------+------------------+------------------+\n",
      "| Negative(Predicted) | 0                | 5                |\n",
      "+---------------------+------------------+------------------+\n",
      "+-------------+-------+\n",
      "|   Metric    |   #   |\n",
      "+=============+=======+\n",
      "| Accuracy    | 0.947 |\n",
      "+-------------+-------+\n",
      "| Precision   | 0.929 |\n",
      "+-------------+-------+\n",
      "| Sensitivity | 1     |\n",
      "+-------------+-------+\n",
      "| Specificity | 0.833 |\n",
      "+-------------+-------+\n",
      "| F1 Score    | 0.963 |\n",
      "+-------------+-------+\n"
     ]
    },
    {
     "name": "stderr",
     "output_type": "stream",
     "text": [
      "100%|████████████████████████████████████| 113/113 [00:00<00:00, 1393989.27it/s]\n",
      "100%|██████████████████████████████████████| 57/57 [00:00<00:00, 1034958.13it/s]\n"
     ]
    },
    {
     "name": "stdout",
     "output_type": "stream",
     "text": [
      "+----------+ Hypothesis +----------+\n",
      "['active(A):-ind1(A,1.0)', 'active(A):-atm(A,B,c,22,-0.12),bond(A,C,D,7)', 'active(A):-atm(A,B,c,26,0.315),bond(A,C,D,2)', 'active(A):-atm(A,B,c,22,0.004)', 'active(A):-atm(A,B,c,22,-0.116),bond(A,C,B,1)', 'active(A):-logp(A,1.49)', 'active(A):-logp(A,3)', 'active(A):-atm(A,B,c,27,0.016),bond(A,C,D,2)', 'active(A):-atm(A,B,n,38,0.814),bond(A,C,B,1)', 'active(A):-atm(A,B,c,16,-0.191),bond(A,C,D,1)', 'active(A):-logp(A,2.52)', 'active(A):-atm(A,B,n,38,0.817),bond(A,C,B,2)', 'active(A):-ring_size_5(A,B),carbon_5_aromatic_ring(A,B)']\n",
      "+----------+ Training +----------+\n",
      "+---------------------+------------------+------------------+\n",
      "|       n = 170       | Positive(Actual) | Negative(Actual) |\n",
      "+=====================+==================+==================+\n",
      "| Positive(Predicted) | 108              | 8                |\n",
      "+---------------------+------------------+------------------+\n",
      "| Negative(Predicted) | 5                | 49               |\n",
      "+---------------------+------------------+------------------+\n",
      "+-------------+-------+\n",
      "|   Metric    |   #   |\n",
      "+=============+=======+\n",
      "| Accuracy    | 0.924 |\n",
      "+-------------+-------+\n",
      "| Precision   | 0.931 |\n",
      "+-------------+-------+\n",
      "| Sensitivity | 0.956 |\n",
      "+-------------+-------+\n",
      "| Specificity | 0.860 |\n",
      "+-------------+-------+\n",
      "| F1 Score    | 0.943 |\n",
      "+-------------+-------+\n",
      "+----------+ Testing +----------+\n",
      "+---------------------+------------------+------------------+\n",
      "|       n = 18        | Positive(Actual) | Negative(Actual) |\n",
      "+=====================+==================+==================+\n",
      "| Positive(Predicted) | 12               | 0                |\n",
      "+---------------------+------------------+------------------+\n",
      "| Negative(Predicted) | 0                | 6                |\n",
      "+---------------------+------------------+------------------+\n",
      "+-------------+---+\n",
      "|   Metric    | # |\n",
      "+=============+===+\n",
      "| Accuracy    | 1 |\n",
      "+-------------+---+\n",
      "| Precision   | 1 |\n",
      "+-------------+---+\n",
      "| Sensitivity | 1 |\n",
      "+-------------+---+\n",
      "| Specificity | 1 |\n",
      "+-------------+---+\n",
      "| F1 Score    | 1 |\n",
      "+-------------+---+\n"
     ]
    },
    {
     "name": "stderr",
     "output_type": "stream",
     "text": [
      "100%|████████████████████████████████████| 113/113 [00:00<00:00, 1504623.34it/s]\n",
      "100%|██████████████████████████████████████| 57/57 [00:00<00:00, 1183541.23it/s]"
     ]
    },
    {
     "name": "stdout",
     "output_type": "stream",
     "text": [
      "+----------+ Hypothesis +----------+\n",
      "['active(A):-ind1(A,1.0)', 'active(A):-atm(A,B,h,3,0.108),bond(A,C,D,7)', 'active(A):-atm(A,B,c,22,-0.12),bond(A,C,D,7)', 'active(A):-atm(A,B,c,26,0.315),bond(A,C,D,7)', 'active(A):-atm(A,B,c,10,-0.096),bond(A,C,B,1)', 'active(A):-logp(A,2.52)', 'active(A):-logp(A,1.49)', 'active(A):-atm(A,B,c,22,-0.116),bond(A,C,B,1)', 'active(A):-logp(A,3)', 'active(A):-atm(A,B,n,38,0.814),bond(A,C,B,1)', 'active(A):-atm(A,B,n,38,0.817),bond(A,C,B,1)', 'active(A):-ring_size_5(A,B),carbon_5_aromatic_ring(A,B)']\n"
     ]
    },
    {
     "name": "stderr",
     "output_type": "stream",
     "text": [
      "\n"
     ]
    },
    {
     "name": "stdout",
     "output_type": "stream",
     "text": [
      "+----------+ Training +----------+\n",
      "+---------------------+------------------+------------------+\n",
      "|       n = 170       | Positive(Actual) | Negative(Actual) |\n",
      "+=====================+==================+==================+\n",
      "| Positive(Predicted) | 110              | 9                |\n",
      "+---------------------+------------------+------------------+\n",
      "| Negative(Predicted) | 3                | 48               |\n",
      "+---------------------+------------------+------------------+\n",
      "+-------------+-------+\n",
      "|   Metric    |   #   |\n",
      "+=============+=======+\n",
      "| Accuracy    | 0.929 |\n",
      "+-------------+-------+\n",
      "| Precision   | 0.924 |\n",
      "+-------------+-------+\n",
      "| Sensitivity | 0.973 |\n",
      "+-------------+-------+\n",
      "| Specificity | 0.842 |\n",
      "+-------------+-------+\n",
      "| F1 Score    | 0.948 |\n",
      "+-------------+-------+\n",
      "+----------+ Testing +----------+\n",
      "+---------------------+------------------+------------------+\n",
      "|       n = 18        | Positive(Actual) | Negative(Actual) |\n",
      "+=====================+==================+==================+\n",
      "| Positive(Predicted) | 11               | 1                |\n",
      "+---------------------+------------------+------------------+\n",
      "| Negative(Predicted) | 1                | 5                |\n",
      "+---------------------+------------------+------------------+\n",
      "+-------------+-------+\n",
      "|   Metric    |   #   |\n",
      "+=============+=======+\n",
      "| Accuracy    | 0.889 |\n",
      "+-------------+-------+\n",
      "| Precision   | 0.917 |\n",
      "+-------------+-------+\n",
      "| Sensitivity | 0.917 |\n",
      "+-------------+-------+\n",
      "| Specificity | 0.833 |\n",
      "+-------------+-------+\n",
      "| F1 Score    | 0.917 |\n",
      "+-------------+-------+\n"
     ]
    },
    {
     "name": "stderr",
     "output_type": "stream",
     "text": [
      "100%|████████████████████████████████████| 113/113 [00:00<00:00, 1467357.13it/s]\n",
      "100%|███████████████████████████████████████| 57/57 [00:00<00:00, 722281.96it/s]"
     ]
    },
    {
     "name": "stdout",
     "output_type": "stream",
     "text": [
      "+----------+ Hypothesis +----------+\n",
      "['active(A):-ind1(A,1.0)', 'active(A):-atm(A,B,h,3,0.108)', 'active(A):-atm(A,B,c,22,0.004),bond(A,C,D,1)', 'active(A):-atm(A,B,n,34,-0.384),bond(A,B,C,7)', 'active(A):-atm(A,B,c,22,-0.116),bond(A,C,B,1)', 'active(A):-atm(A,B,o,40,-0.384),bond(A,B,C,2)', 'active(A):-logp(A,1.49)', 'active(A):-logp(A,3)', 'active(A):-atm(A,B,c,29,0.014),bond(A,C,B,7)', 'active(A):-atm(A,B,o,40,-0.39),bond(A,B,C,2)', 'active(A):-ring_size_5(A,B),carbon_5_aromatic_ring(A,B)']\n"
     ]
    },
    {
     "name": "stderr",
     "output_type": "stream",
     "text": [
      "\n"
     ]
    },
    {
     "name": "stdout",
     "output_type": "stream",
     "text": [
      "+----------+ Training +----------+\n",
      "+---------------------+------------------+------------------+\n",
      "|       n = 170       | Positive(Actual) | Negative(Actual) |\n",
      "+=====================+==================+==================+\n",
      "| Positive(Predicted) | 108              | 9                |\n",
      "+---------------------+------------------+------------------+\n",
      "| Negative(Predicted) | 5                | 48               |\n",
      "+---------------------+------------------+------------------+\n",
      "+-------------+-------+\n",
      "|   Metric    |   #   |\n",
      "+=============+=======+\n",
      "| Accuracy    | 0.918 |\n",
      "+-------------+-------+\n",
      "| Precision   | 0.923 |\n",
      "+-------------+-------+\n",
      "| Sensitivity | 0.956 |\n",
      "+-------------+-------+\n",
      "| Specificity | 0.842 |\n",
      "+-------------+-------+\n",
      "| F1 Score    | 0.939 |\n",
      "+-------------+-------+\n",
      "+----------+ Testing +----------+\n",
      "+---------------------+------------------+------------------+\n",
      "|       n = 18        | Positive(Actual) | Negative(Actual) |\n",
      "+=====================+==================+==================+\n",
      "| Positive(Predicted) | 10               | 0                |\n",
      "+---------------------+------------------+------------------+\n",
      "| Negative(Predicted) | 2                | 6                |\n",
      "+---------------------+------------------+------------------+\n",
      "+-------------+-------+\n",
      "|   Metric    |   #   |\n",
      "+=============+=======+\n",
      "| Accuracy    | 0.889 |\n",
      "+-------------+-------+\n",
      "| Precision   | 1     |\n",
      "+-------------+-------+\n",
      "| Sensitivity | 0.833 |\n",
      "+-------------+-------+\n",
      "| Specificity | 1     |\n",
      "+-------------+-------+\n",
      "| F1 Score    | 0.909 |\n",
      "+-------------+-------+\n"
     ]
    },
    {
     "name": "stderr",
     "output_type": "stream",
     "text": [
      "100%|████████████████████████████████████| 113/113 [00:00<00:00, 1523975.41it/s]\n",
      "100%|██████████████████████████████████████| 57/57 [00:00<00:00, 1096675.82it/s]"
     ]
    },
    {
     "name": "stdout",
     "output_type": "stream",
     "text": [
      "+----------+ Hypothesis +----------+\n",
      "['active(A):-ind1(A,1.0)', 'active(A):-atm(A,B,c,22,-0.12),bond(A,C,B,7)', 'active(A):-atm(A,B,h,3,0.108),bond(A,C,B,1)', 'active(A):-logp(A,3)', 'active(A):-atm(A,B,c,26,0.315),bond(A,B,C,7)', 'active(A):-atm(A,B,c,10,-0.096),bond(A,C,D,7)', 'active(A):-logp(A,1.49)', 'active(A):-atm(A,B,n,38,0.814),bond(A,C,B,1)', 'active(A):-logp(A,2.52)', 'active(A):-atm(A,B,c,27,0.016),bond(A,C,D,1)', 'active(A):-atm(A,B,n,38,0.817),bond(A,C,B,2)', 'active(A):-ring_size_5(A,B),carbon_5_aromatic_ring(A,B)']\n"
     ]
    },
    {
     "name": "stderr",
     "output_type": "stream",
     "text": [
      "\n"
     ]
    },
    {
     "name": "stdout",
     "output_type": "stream",
     "text": [
      "+----------+ Training +----------+\n",
      "+---------------------+------------------+------------------+\n",
      "|       n = 170       | Positive(Actual) | Negative(Actual) |\n",
      "+=====================+==================+==================+\n",
      "| Positive(Predicted) | 109              | 9                |\n",
      "+---------------------+------------------+------------------+\n",
      "| Negative(Predicted) | 4                | 48               |\n",
      "+---------------------+------------------+------------------+\n",
      "+-------------+-------+\n",
      "|   Metric    |   #   |\n",
      "+=============+=======+\n",
      "| Accuracy    | 0.924 |\n",
      "+-------------+-------+\n",
      "| Precision   | 0.924 |\n",
      "+-------------+-------+\n",
      "| Sensitivity | 0.965 |\n",
      "+-------------+-------+\n",
      "| Specificity | 0.842 |\n",
      "+-------------+-------+\n",
      "| F1 Score    | 0.944 |\n",
      "+-------------+-------+\n",
      "+----------+ Testing +----------+\n",
      "+---------------------+------------------+------------------+\n",
      "|       n = 18        | Positive(Actual) | Negative(Actual) |\n",
      "+=====================+==================+==================+\n",
      "| Positive(Predicted) | 12               | 1                |\n",
      "+---------------------+------------------+------------------+\n",
      "| Negative(Predicted) | 0                | 5                |\n",
      "+---------------------+------------------+------------------+\n",
      "+-------------+-------+\n",
      "|   Metric    |   #   |\n",
      "+=============+=======+\n",
      "| Accuracy    | 0.944 |\n",
      "+-------------+-------+\n",
      "| Precision   | 0.923 |\n",
      "+-------------+-------+\n",
      "| Sensitivity | 1     |\n",
      "+-------------+-------+\n",
      "| Specificity | 0.833 |\n",
      "+-------------+-------+\n",
      "| F1 Score    | 0.960 |\n",
      "+-------------+-------+\n"
     ]
    },
    {
     "name": "stderr",
     "output_type": "stream",
     "text": [
      "100%|████████████████████████████████████| 113/113 [00:00<00:00, 1595812.63it/s]\n",
      "100%|██████████████████████████████████████| 57/57 [00:00<00:00, 1111978.27it/s]"
     ]
    },
    {
     "name": "stdout",
     "output_type": "stream",
     "text": [
      "+----------+ Hypothesis +----------+\n",
      "['active(A):-ind1(A,1.0)', 'active(A):-atm(A,B,h,3,0.14),bond(A,C,D,2)', 'active(A):-logp(A,2.74)', 'active(A):-logp(A,1.49)', 'active(A):-atm(A,B,c,27,0.016),bond(A,C,D,1)', 'active(A):-atm(A,B,c,22,-0.116),bond(A,C,B,1)', 'active(A):-logp(A,2.52)', 'active(A):-atm(A,B,n,38,0.813),bond(A,C,D,2)', 'active(A):-atm(A,B,c,21,-0.115),bond(A,B,C,7)', 'active(A):-logp(A,3)', 'active(A):-atm(A,B,n,38,0.817),bond(A,C,B,2)', 'active(A):-carbon_5_aromatic_ring(A,B)']\n"
     ]
    },
    {
     "name": "stderr",
     "output_type": "stream",
     "text": [
      "\n"
     ]
    },
    {
     "name": "stdout",
     "output_type": "stream",
     "text": [
      "+----------+ Training +----------+\n",
      "+---------------------+------------------+------------------+\n",
      "|       n = 170       | Positive(Actual) | Negative(Actual) |\n",
      "+=====================+==================+==================+\n",
      "| Positive(Predicted) | 108              | 8                |\n",
      "+---------------------+------------------+------------------+\n",
      "| Negative(Predicted) | 5                | 49               |\n",
      "+---------------------+------------------+------------------+\n",
      "+-------------+-------+\n",
      "|   Metric    |   #   |\n",
      "+=============+=======+\n",
      "| Accuracy    | 0.924 |\n",
      "+-------------+-------+\n",
      "| Precision   | 0.931 |\n",
      "+-------------+-------+\n",
      "| Sensitivity | 0.956 |\n",
      "+-------------+-------+\n",
      "| Specificity | 0.860 |\n",
      "+-------------+-------+\n",
      "| F1 Score    | 0.943 |\n",
      "+-------------+-------+\n",
      "+----------+ Testing +----------+\n",
      "+---------------------+------------------+------------------+\n",
      "|       n = 18        | Positive(Actual) | Negative(Actual) |\n",
      "+=====================+==================+==================+\n",
      "| Positive(Predicted) | 11               | 1                |\n",
      "+---------------------+------------------+------------------+\n",
      "| Negative(Predicted) | 1                | 5                |\n",
      "+---------------------+------------------+------------------+\n",
      "+-------------+-------+\n",
      "|   Metric    |   #   |\n",
      "+=============+=======+\n",
      "| Accuracy    | 0.889 |\n",
      "+-------------+-------+\n",
      "| Precision   | 0.917 |\n",
      "+-------------+-------+\n",
      "| Sensitivity | 0.917 |\n",
      "+-------------+-------+\n",
      "| Specificity | 0.833 |\n",
      "+-------------+-------+\n",
      "| F1 Score    | 0.917 |\n",
      "+-------------+-------+\n"
     ]
    }
   ],
   "source": [
    "\n",
    "model=pygol_cross_validation(folds, file=\"BK.pl\",  \n",
    "                              k_fold=10, min_pos=2,  \n",
    "                              constant_set=constant_1, \n",
    "                              set_chain=True, max_literals=2,  \n",
    "                              distinct=True,   max_neg=5)"
   ]
  },
  {
   "cell_type": "code",
   "execution_count": 5,
   "id": "a8fe4d05",
   "metadata": {},
   "outputs": [
    {
     "data": {
      "text/plain": [
       "0.9"
      ]
     },
     "execution_count": 5,
     "metadata": {},
     "output_type": "execute_result"
    }
   ],
   "source": [
    "np.mean(model.accuracy)"
   ]
  },
  {
   "cell_type": "code",
   "execution_count": 6,
   "id": "2dd202c2",
   "metadata": {},
   "outputs": [
    {
     "name": "stdout",
     "output_type": "stream",
     "text": [
      "[0.85, 0.9, 0.85, 0.842, 0.947, 1.0, 0.889, 0.889, 0.944, 0.889]\n"
     ]
    }
   ],
   "source": [
    "print(model.accuracy)"
   ]
  }
 ],
 "metadata": {
  "kernelspec": {
   "display_name": "Python 3 (ipykernel)",
   "language": "python",
   "name": "python3"
  },
  "language_info": {
   "codemirror_mode": {
    "name": "ipython",
    "version": 3
   },
   "file_extension": ".py",
   "mimetype": "text/x-python",
   "name": "python",
   "nbconvert_exporter": "python",
   "pygments_lexer": "ipython3",
   "version": "3.12.2"
  }
 },
 "nbformat": 4,
 "nbformat_minor": 5
}
