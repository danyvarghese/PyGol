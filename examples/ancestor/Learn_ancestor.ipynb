{
 "cells": [
  {
   "cell_type": "code",
   "execution_count": 4,
   "id": "b6680ca5-3282-4f04-aa8b-042be4a26ff1",
   "metadata": {},
   "outputs": [],
   "source": [
    "import sys\n",
    "sys.path.insert(0, '../../')\n",
    "from PyGol import *"
   ]
  },
  {
   "cell_type": "code",
   "execution_count": 5,
   "id": "0fa1e253-1f36-447e-a7e4-ffbe5ab72fd5",
   "metadata": {},
   "outputs": [
    {
     "name": "stderr",
     "output_type": "stream",
     "text": [
      "100%|███████████████████████████████████████████| 3/3 [00:00<00:00, 1543.35it/s]\n",
      "100%|████████████████████████████████████████████| 1/1 [00:00<00:00, 974.74it/s]\n",
      "100%|████████████████████████████████████████████| 3/3 [00:00<00:00, 790.53it/s]\n",
      "100%|████████████████████████████████████████████| 1/1 [00:00<00:00, 339.56it/s]"
     ]
    },
    {
     "name": "stdout",
     "output_type": "stream",
     "text": [
      "+----------+ Hypothesis +----------+\n",
      "['ancestor(A,B):-parent(A,B)', 'ancestor(A,B):-parent(A,C),ancestor(C,B)']\n",
      "+----------+ Training +----------+\n",
      "+---------------------+------------------+------------------+\n",
      "|        n = 4        | Positive(Actual) | Negative(Actual) |\n",
      "+=====================+==================+==================+\n",
      "| Positive(Predicted) | 3                | 0                |\n",
      "+---------------------+------------------+------------------+\n",
      "| Negative(Predicted) | 0                | 1                |\n",
      "+---------------------+------------------+------------------+\n",
      "+-------------+---+\n",
      "|   Metric    | # |\n",
      "+=============+===+\n",
      "| Accuracy    | 1 |\n",
      "+-------------+---+\n",
      "| Precision   | 1 |\n",
      "+-------------+---+\n",
      "| Sensitivity | 1 |\n",
      "+-------------+---+\n",
      "| Specificity | 1 |\n",
      "+-------------+---+\n",
      "| F1 Score    | 1 |\n",
      "+-------------+---+\n"
     ]
    },
    {
     "name": "stderr",
     "output_type": "stream",
     "text": [
      "\n"
     ]
    }
   ],
   "source": [
    "constant = []\n",
    "P, N = bottom_clause_generation(constant_set = constant, container = \"dict\", file = \"BK.pl\",\n",
    "                               positive_example = \"pos_example.f\", negative_example = \"neg_example.n\",\n",
    "                               positive_file_dictionary= \"Ancestor_Pos_BC\", \n",
    "                                negative_file_dictionary = \"Ancestor_Neg_BC\")\n",
    "Train_P, Test_P, Train_N, Test_N = pygol_train_test_split(test_size= 0, \n",
    "                                                          positive_file_dictionary= \"Ancestor_Pos_BC\", \n",
    "                                                          negative_file_dictionary = \"Ancestor_Neg_BC\")\n",
    "model= pygol_learn(Train_P, Train_N, constant_set = constant, max_neg = 0, file = \"BK.pl\",\n",
    "                     max_literals = 5,  key_size = 3,  rule_noise_check = True, recursive = True)"
   ]
  },
  {
   "cell_type": "code",
   "execution_count": null,
   "id": "298a34f8-17df-4cdb-a4c9-da25b06eca59",
   "metadata": {},
   "outputs": [],
   "source": []
  }
 ],
 "metadata": {
  "kernelspec": {
   "display_name": "Python 3 (ipykernel)",
   "language": "python",
   "name": "python3"
  },
  "language_info": {
   "codemirror_mode": {
    "name": "ipython",
    "version": 3
   },
   "file_extension": ".py",
   "mimetype": "text/x-python",
   "name": "python",
   "nbconvert_exporter": "python",
   "pygments_lexer": "ipython3",
   "version": "3.12.2"
  }
 },
 "nbformat": 4,
 "nbformat_minor": 5
}
