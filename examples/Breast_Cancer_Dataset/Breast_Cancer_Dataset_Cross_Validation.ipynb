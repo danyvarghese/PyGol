{
 "cells": [
  {
   "cell_type": "markdown",
   "id": "4ddfa7fd",
   "metadata": {},
   "source": [
    "<h1><center>PyGol meets scikit-learn</center></h1>\n",
    "<p>\n",
    "This sheet demonstrates the usage  PyGol, an ILP system,  on a typical data science dataset(Tabular, CSV). PyGol is an ILP solution for <b><font color=\"red\">automated machine learning and automated data science</font></b>. PyGol can be considered an <b><font color=\"red\">Explainable learning</font></b> engine to the machine learning community. \n",
    "</p>\n",
    "<p>\n",
    "The need for in-depth knowledge to work with ILP algorithms, is\n",
    "one of the disadvantages of most ILP systems from the data science perspective.\n",
    "For example, Progol, Aleph and Metagol are well-known ILP systems, but they\n",
    "cannot be used without user-defined mode declarations or meta-rules. The user\n",
    "needs to have domain/data information to represent the problem and background\n",
    "knowledge in logical representation, converting data into the correct format and\n",
    "also define the right mode declaration or meta-rules, etc.</p>"
   ]
  },
  {
   "cell_type": "markdown",
   "id": "7546b390",
   "metadata": {},
   "source": [
    "## Load PyGol"
   ]
  },
  {
   "cell_type": "code",
   "execution_count": 1,
   "id": "6fd9460b",
   "metadata": {},
   "outputs": [],
   "source": [
    "import sys\n",
    "sys.path.insert(0, '../../')\n",
    "from PyGol import *"
   ]
  },
  {
   "cell_type": "markdown",
   "id": "1cd5fceb",
   "metadata": {},
   "source": [
    "## Load sklearn modules and other modules"
   ]
  },
  {
   "cell_type": "code",
   "execution_count": 2,
   "id": "aaaa3748",
   "metadata": {},
   "outputs": [],
   "source": [
    "from sklearn.model_selection import train_test_split\n",
    "from sklearn.datasets import load_breast_cancer\n",
    "from sklearn.model_selection import StratifiedKFold\n",
    "from sklearn.model_selection import cross_val_score\n",
    "from matplotlib import pyplot\n",
    "from sklearn import  svm\n",
    "from sklearn.naive_bayes import GaussianNB\n",
    "from sklearn.tree import DecisionTreeClassifier\n",
    "from sklearn.linear_model import Perceptron\n",
    "from sklearn.neural_network import MLPClassifier\n",
    "from sklearn.metrics import accuracy_score\n",
    "from sklearn.metrics import precision_score\n",
    "from sklearn.tree import DecisionTreeClassifier, plot_tree\n",
    "import numpy as np\n",
    "import matplotlib.pyplot as plt\n",
    "import pandas as pd"
   ]
  },
  {
   "cell_type": "markdown",
   "id": "4018fc7c",
   "metadata": {},
   "source": [
    "## Load dataset into pandas dataframe"
   ]
  },
  {
   "cell_type": "code",
   "execution_count": 3,
   "id": "216f7e76",
   "metadata": {},
   "outputs": [],
   "source": [
    "cancer = load_breast_cancer()\n",
    "data = pd.DataFrame(np.c_[cancer['data'], cancer['target']],\n",
    "                  columns= np.append(cancer['feature_names'], ['target']))"
   ]
  },
  {
   "cell_type": "markdown",
   "id": "c439f5a6",
   "metadata": {},
   "source": [
    "## Preparing Data and Targes for learning"
   ]
  },
  {
   "cell_type": "code",
   "execution_count": 4,
   "id": "d9bfbcf9",
   "metadata": {},
   "outputs": [],
   "source": [
    "## Selecting Feature Columns for PyGol\n",
    "feature_col=data.columns[0:-1]\n",
    "\n",
    "## Selecting Target Columns for PyGol\n",
    "target=data.columns[-1]\n",
    "\n",
    "##Selecting data and target for other machine learning algorithms\n",
    "X = data.values[:,0:-1]\n",
    "y = data.values[:,-1]"
   ]
  },
  {
   "cell_type": "markdown",
   "id": "4eaa6bb4",
   "metadata": {},
   "source": [
    "## PyGol data preprocessing"
   ]
  },
  {
   "cell_type": "markdown",
   "id": "c4a673f1",
   "metadata": {},
   "source": [
    "### 1.  Generate first-order logic rules as background knowledge for PyGol by deciding on grouping."
   ]
  },
  {
   "cell_type": "code",
   "execution_count": 5,
   "id": "d3a8e52f",
   "metadata": {},
   "outputs": [],
   "source": [
    "background=prepare_logic_rules(data,feature_col, meta_information=\"meta_data.info\",\n",
    "                               default_div=3, conditions={})"
   ]
  },
  {
   "cell_type": "markdown",
   "id": "2ae060a6",
   "metadata": {},
   "source": [
    "<font color=\"red\">This function will generate a file, <b>\"meta_data.info\"</b>,  containing meta-information about the dataset and grouping.</font>"
   ]
  },
  {
   "cell_type": "markdown",
   "id": "26fd1a3c",
   "metadata": {},
   "source": [
    "### 2. Generate Examples files"
   ]
  },
  {
   "cell_type": "code",
   "execution_count": 6,
   "id": "b147d8fc",
   "metadata": {},
   "outputs": [],
   "source": [
    "examples=prepare_examples(data,target)"
   ]
  },
  {
   "cell_type": "markdown",
   "id": "3465bbe6",
   "metadata": {},
   "source": [
    "<font color=\"red\">ILP needs positive and negative examples for learning by the definition itself. If it's a multi-class classification, we must combine or alter the files according to meta-information. We create an example list automatically using the meta-information generated in the previous step.</font>"
   ]
  },
  {
   "cell_type": "markdown",
   "id": "f34d2888",
   "metadata": {},
   "source": [
    "### 3. Generate Constant list"
   ]
  },
  {
   "cell_type": "code",
   "execution_count": 7,
   "id": "c925113c",
   "metadata": {},
   "outputs": [],
   "source": [
    "const=read_constants_meta_info()"
   ]
  },
  {
   "cell_type": "markdown",
   "id": "0fd2c56c",
   "metadata": {},
   "source": [
    "### 4. Generate Bottom Clause"
   ]
  },
  {
   "cell_type": "code",
   "execution_count": 8,
   "id": "69481b86",
   "metadata": {},
   "outputs": [
    {
     "name": "stderr",
     "output_type": "stream",
     "text": [
      "100%|████████████████████████████████████████| 212/212 [00:01<00:00, 148.96it/s]\n",
      "100%|████████████████████████████████████████| 357/357 [00:02<00:00, 143.05it/s]\n"
     ]
    }
   ],
   "source": [
    "P, N = bottom_clause_generation(file=\"BK.pl\", constant_set = const,  container = \"memory\",\n",
    "                                positive_example=\"pos_example.f\", negative_example=\"neg_example.n\")"
   ]
  },
  {
   "cell_type": "code",
   "execution_count": 9,
   "id": "413cf630",
   "metadata": {},
   "outputs": [],
   "source": [
    "#P"
   ]
  },
  {
   "cell_type": "markdown",
   "id": "382b09d1",
   "metadata": {},
   "source": [
    "## Fold Generation"
   ]
  },
  {
   "cell_type": "code",
   "execution_count": 10,
   "id": "6d75bb86",
   "metadata": {},
   "outputs": [],
   "source": [
    "folds=pygol_folds(folds=10,  positive_file_dictionary=P, negative_file_dictionary=N)"
   ]
  },
  {
   "cell_type": "markdown",
   "id": "425adcc2",
   "metadata": {},
   "source": [
    "## Modelling using PyGol"
   ]
  },
  {
   "cell_type": "code",
   "execution_count": 11,
   "id": "e6a054d0",
   "metadata": {},
   "outputs": [
    {
     "name": "stderr",
     "output_type": "stream",
     "text": [
      "100%|█████████████████████████████████████████| 190/190 [00:12<00:00, 15.34it/s]\n",
      "100%|█████████████████████████████████████████| 321/321 [00:21<00:00, 15.05it/s]\n"
     ]
    },
    {
     "name": "stdout",
     "output_type": "stream",
     "text": [
      "+----------+ Hypothesis +----------+\n",
      "['target(A):-worst_concave_points(A,g2),worst_perimeter(A,g2)', 'target(A):-perimeter_error(A,g0),worst_radius(A,g2)', 'target(A):-mean_concave_points(A,g2),radius_error(A,g0)', 'target(A):-concave_points_error(A,g0),worst_concave_points(A,g2)', 'target(A):-mean_area(A,g1),worst_radius(A,g2)', 'target(A):-perimeter_error(A,g0),worst_concave_points(A,g2)', 'target(A):-compactness_error(A,g0),mean_concavity(A,g2)', 'target(A):-concave_points_error(A,g0),worst_radius(A,g2)', 'target(A):-compactness_error(A,g0),worst_concavity(A,g2)', 'target(A):-area_error(A,g2),radius_error(A,g1)', 'target(A):-mean_texture(A,g2),texture_error(A,g0)', 'target(A):-mean_concavity(A,g2),worst_fractal_dimension(A,g0)', 'target(A):-fractal_dimension_error(A,g0),mean_concavity(A,g2)', 'target(A):-mean_fractal_dimension(A,g2),worst_radius(A,g2)', 'target(A):-symmetry_error(A,g2),worst_radius(A,g2)', 'target(A):-texture_error(A,g0),worst_radius(A,g2)', 'target(A):-mean_radius(A,g2),smoothness_error(A,g2)', 'target(A):-worst_radius(A,g2),worst_symmetry(A,g1)', 'target(A):-symmetry_error(A,g1),worst_concave_points(A,g2)', 'target(A):-worst_fractal_dimension(A,g1),worst_radius(A,g2)', 'target(A):-concavity_error(A,g1),worst_concave_points(A,g2)', 'target(A):-mean_area(A,g2),mean_texture(A,g2)', 'target(A):-worst_perimeter(A,g2),worst_smoothness(A,g2)', 'target(A):-mean_concave_points(A,g2),worst_symmetry(A,g2)', 'target(A):-mean_texture(A,g2),worst_area(A,g2)']\n",
      "+----------+ Training +----------+\n",
      "+---------------------+------------------+------------------+\n",
      "|       n = 511       | Positive(Actual) | Negative(Actual) |\n",
      "+=====================+==================+==================+\n",
      "| Positive(Predicted) | 183              | 9                |\n",
      "+---------------------+------------------+------------------+\n",
      "| Negative(Predicted) | 7                | 312              |\n",
      "+---------------------+------------------+------------------+\n",
      "+-------------+-------+\n",
      "|   Metric    |   #   |\n",
      "+=============+=======+\n",
      "| Accuracy    | 0.969 |\n",
      "+-------------+-------+\n",
      "| Precision   | 0.953 |\n",
      "+-------------+-------+\n",
      "| Sensitivity | 0.963 |\n",
      "+-------------+-------+\n",
      "| Specificity | 0.972 |\n",
      "+-------------+-------+\n",
      "| F1 Score    | 0.958 |\n",
      "+-------------+-------+\n",
      "+----------+ Testing +----------+\n",
      "+---------------------+------------------+------------------+\n",
      "|       n = 58        | Positive(Actual) | Negative(Actual) |\n",
      "+=====================+==================+==================+\n",
      "| Positive(Predicted) | 22               | 3                |\n",
      "+---------------------+------------------+------------------+\n",
      "| Negative(Predicted) | 0                | 33               |\n",
      "+---------------------+------------------+------------------+\n",
      "+-------------+-------+\n",
      "|   Metric    |   #   |\n",
      "+=============+=======+\n",
      "| Accuracy    | 0.948 |\n",
      "+-------------+-------+\n",
      "| Precision   | 0.880 |\n",
      "+-------------+-------+\n",
      "| Sensitivity | 1     |\n",
      "+-------------+-------+\n",
      "| Specificity | 0.917 |\n",
      "+-------------+-------+\n",
      "| F1 Score    | 0.936 |\n",
      "+-------------+-------+\n"
     ]
    },
    {
     "name": "stderr",
     "output_type": "stream",
     "text": [
      "100%|████████████████████████████████████████| 190/190 [00:01<00:00, 136.14it/s]\n",
      "100%|████████████████████████████████████████| 321/321 [00:02<00:00, 137.66it/s]\n"
     ]
    },
    {
     "name": "stdout",
     "output_type": "stream",
     "text": [
      "+----------+ Hypothesis +----------+\n",
      "['target(A):-mean_concave_points(A,g2),worst_concave_points(A,g2)', 'target(A):-radius_error(A,g0),worst_radius(A,g2)', 'target(A):-perimeter_error(A,g0),worst_radius(A,g2)', 'target(A):-mean_perimeter(A,g1),worst_radius(A,g2)', 'target(A):-mean_concave_points(A,g2),mean_smoothness(A,g0)', 'target(A):-compactness_error(A,g0),mean_concavity(A,g2)', 'target(A):-compactness_error(A,g0),worst_concavity(A,g2)', 'target(A):-concave_points_error(A,g0),worst_radius(A,g2)', 'target(A):-compactness_error(A,g0),worst_concave_points(A,g2)', 'target(A):-mean_radius(A,g1),worst_radius(A,g2)', 'target(A):-mean_concavity(A,g2),worst_fractal_dimension(A,g0)', 'target(A):-radius_error(A,g1),worst_radius(A,g2)', 'target(A):-mean_radius(A,g2),radius_error(A,g1)', 'target(A):-mean_compactness(A,g2),mean_fractal_dimension(A,g0)', 'target(A):-perimeter_error(A,g1),worst_radius(A,g2)', 'target(A):-area_error(A,g1),worst_concave_points(A,g2)', 'target(A):-symmetry_error(A,g2),worst_radius(A,g2)', 'target(A):-smoothness_error(A,g2),worst_radius(A,g2)', 'target(A):-mean_radius(A,g2),worst_symmetry(A,g1)', 'target(A):-smoothness_error(A,g1),worst_radius(A,g2)', 'target(A):-mean_concave_points(A,g2),worst_texture(A,g2)', 'target(A):-mean_texture(A,g2),worst_area(A,g2)']\n",
      "+----------+ Training +----------+\n",
      "+---------------------+------------------+------------------+\n",
      "|       n = 511       | Positive(Actual) | Negative(Actual) |\n",
      "+=====================+==================+==================+\n",
      "| Positive(Predicted) | 184              | 8                |\n",
      "+---------------------+------------------+------------------+\n",
      "| Negative(Predicted) | 6                | 313              |\n",
      "+---------------------+------------------+------------------+\n",
      "+-------------+-------+\n",
      "|   Metric    |   #   |\n",
      "+=============+=======+\n",
      "| Accuracy    | 0.973 |\n",
      "+-------------+-------+\n",
      "| Precision   | 0.958 |\n",
      "+-------------+-------+\n",
      "| Sensitivity | 0.968 |\n",
      "+-------------+-------+\n",
      "| Specificity | 0.975 |\n",
      "+-------------+-------+\n",
      "| F1 Score    | 0.963 |\n",
      "+-------------+-------+\n",
      "+----------+ Testing +----------+\n",
      "+---------------------+------------------+------------------+\n",
      "|       n = 58        | Positive(Actual) | Negative(Actual) |\n",
      "+=====================+==================+==================+\n",
      "| Positive(Predicted) | 16               | 4                |\n",
      "+---------------------+------------------+------------------+\n",
      "| Negative(Predicted) | 6                | 32               |\n",
      "+---------------------+------------------+------------------+\n",
      "+-------------+-------+\n",
      "|   Metric    |   #   |\n",
      "+=============+=======+\n",
      "| Accuracy    | 0.828 |\n",
      "+-------------+-------+\n",
      "| Precision   | 0.800 |\n",
      "+-------------+-------+\n",
      "| Sensitivity | 0.727 |\n",
      "+-------------+-------+\n",
      "| Specificity | 0.889 |\n",
      "+-------------+-------+\n",
      "| F1 Score    | 0.762 |\n",
      "+-------------+-------+\n"
     ]
    },
    {
     "name": "stderr",
     "output_type": "stream",
     "text": [
      "100%|████████████████████████████████████| 191/191 [00:00<00:00, 1987871.13it/s]\n",
      "100%|████████████████████████████████████| 321/321 [00:00<00:00, 1844344.64it/s]"
     ]
    },
    {
     "name": "stdout",
     "output_type": "stream",
     "text": [
      "+----------+ Hypothesis +----------+\n",
      "['target(A):-worst_concave_points(A,g2),worst_perimeter(A,g2)', 'target(A):-perimeter_error(A,g0),worst_radius(A,g2)', 'target(A):-concave_points_error(A,g0),worst_concave_points(A,g2)', 'target(A):-perimeter_error(A,g0),worst_concave_points(A,g2)', 'target(A):-mean_concave_points(A,g2),radius_error(A,g0)', 'target(A):-compactness_error(A,g0),mean_concavity(A,g2)', 'target(A):-concave_points_error(A,g0),mean_radius(A,g2)', 'target(A):-mean_compactness(A,g0),worst_perimeter(A,g2)', 'target(A):-concave_points_error(A,g0),worst_radius(A,g2)', 'target(A):-compactness_error(A,g0),worst_concavity(A,g2)', 'target(A):-mean_radius(A,g1),worst_radius(A,g2)', 'target(A):-mean_concavity(A,g2),worst_fractal_dimension(A,g0)', 'target(A):-mean_smoothness(A,g0),worst_radius(A,g2)', 'target(A):-fractal_dimension_error(A,g0),mean_concavity(A,g2)', 'target(A):-mean_fractal_dimension(A,g2),worst_radius(A,g2)', 'target(A):-symmetry_error(A,g2),worst_radius(A,g2)', 'target(A):-mean_radius(A,g2),smoothness_error(A,g2)', 'target(A):-texture_error(A,g0),worst_radius(A,g2)', 'target(A):-worst_compactness(A,g1),worst_radius(A,g2)', 'target(A):-concave_points_error(A,g1),worst_concave_points(A,g2)', 'target(A):-symmetry_error(A,g1),worst_concave_points(A,g2)', 'target(A):-area_error(A,g2),worst_smoothness(A,g2)', 'target(A):-area_error(A,g2),worst_texture(A,g2)', 'target(A):-mean_texture(A,g2),worst_concave_points(A,g2)', 'target(A):-worst_perimeter(A,g2),worst_smoothness(A,g2)']\n"
     ]
    },
    {
     "name": "stderr",
     "output_type": "stream",
     "text": [
      "\n"
     ]
    },
    {
     "name": "stdout",
     "output_type": "stream",
     "text": [
      "+----------+ Training +----------+\n",
      "+---------------------+------------------+------------------+\n",
      "|       n = 512       | Positive(Actual) | Negative(Actual) |\n",
      "+=====================+==================+==================+\n",
      "| Positive(Predicted) | 180              | 7                |\n",
      "+---------------------+------------------+------------------+\n",
      "| Negative(Predicted) | 11               | 314              |\n",
      "+---------------------+------------------+------------------+\n",
      "+-------------+-------+\n",
      "|   Metric    |   #   |\n",
      "+=============+=======+\n",
      "| Accuracy    | 0.965 |\n",
      "+-------------+-------+\n",
      "| Precision   | 0.963 |\n",
      "+-------------+-------+\n",
      "| Sensitivity | 0.942 |\n",
      "+-------------+-------+\n",
      "| Specificity | 0.978 |\n",
      "+-------------+-------+\n",
      "| F1 Score    | 0.952 |\n",
      "+-------------+-------+\n",
      "+----------+ Testing +----------+\n",
      "+---------------------+------------------+------------------+\n",
      "|       n = 57        | Positive(Actual) | Negative(Actual) |\n",
      "+=====================+==================+==================+\n",
      "| Positive(Predicted) | 19               | 2                |\n",
      "+---------------------+------------------+------------------+\n",
      "| Negative(Predicted) | 2                | 34               |\n",
      "+---------------------+------------------+------------------+\n",
      "+-------------+-------+\n",
      "|   Metric    |   #   |\n",
      "+=============+=======+\n",
      "| Accuracy    | 0.930 |\n",
      "+-------------+-------+\n",
      "| Precision   | 0.905 |\n",
      "+-------------+-------+\n",
      "| Sensitivity | 0.905 |\n",
      "+-------------+-------+\n",
      "| Specificity | 0.944 |\n",
      "+-------------+-------+\n",
      "| F1 Score    | 0.905 |\n",
      "+-------------+-------+\n"
     ]
    },
    {
     "name": "stderr",
     "output_type": "stream",
     "text": [
      "100%|████████████████████████████████████| 191/191 [00:00<00:00, 1968334.31it/s]\n",
      "100%|████████████████████████████████████| 321/321 [00:00<00:00, 1888319.19it/s]"
     ]
    },
    {
     "name": "stdout",
     "output_type": "stream",
     "text": [
      "+----------+ Hypothesis +----------+\n",
      "['target(A):-worst_concave_points(A,g2),worst_perimeter(A,g2)', 'target(A):-perimeter_error(A,g0),worst_radius(A,g2)', 'target(A):-concave_points_error(A,g0),worst_concave_points(A,g2)', 'target(A):-mean_perimeter(A,g1),worst_radius(A,g2)', 'target(A):-perimeter_error(A,g0),worst_concave_points(A,g2)', 'target(A):-compactness_error(A,g0),mean_concavity(A,g2)', 'target(A):-mean_concave_points(A,g2),radius_error(A,g0)', 'target(A):-concave_points_error(A,g0),worst_radius(A,g2)', 'target(A):-mean_radius(A,g1),worst_radius(A,g2)', 'target(A):-worst_concave_points(A,g2),worst_fractal_dimension(A,g0)', 'target(A):-mean_concavity(A,g2),worst_fractal_dimension(A,g0)', 'target(A):-mean_texture(A,g2),texture_error(A,g0)', 'target(A):-perimeter_error(A,g1),worst_radius(A,g2)', 'target(A):-symmetry_error(A,g2),worst_radius(A,g2)', 'target(A):-smoothness_error(A,g2),worst_radius(A,g2)', 'target(A):-mean_radius(A,g2),smoothness_error(A,g2)', 'target(A):-symmetry_error(A,g2),worst_area(A,g2)', 'target(A):-mean_fractal_dimension(A,g1),mean_radius(A,g2)', 'target(A):-texture_error(A,g0),worst_concave_points(A,g2)', 'target(A):-mean_fractal_dimension(A,g1),worst_concave_points(A,g2)', 'target(A):-area_error(A,g2),fractal_dimension_error(A,g1)', 'target(A):-symmetry_error(A,g1),worst_concave_points(A,g2)', 'target(A):-fractal_dimension_error(A,g1),mean_concavity(A,g2)', 'target(A):-concavity_error(A,g1),worst_concave_points(A,g2)', 'target(A):-mean_concave_points(A,g2),worst_texture(A,g2)']\n"
     ]
    },
    {
     "name": "stderr",
     "output_type": "stream",
     "text": [
      "\n"
     ]
    },
    {
     "name": "stdout",
     "output_type": "stream",
     "text": [
      "+----------+ Training +----------+\n",
      "+---------------------+------------------+------------------+\n",
      "|       n = 512       | Positive(Actual) | Negative(Actual) |\n",
      "+=====================+==================+==================+\n",
      "| Positive(Predicted) | 185              | 8                |\n",
      "+---------------------+------------------+------------------+\n",
      "| Negative(Predicted) | 6                | 313              |\n",
      "+---------------------+------------------+------------------+\n",
      "+-------------+-------+\n",
      "|   Metric    |   #   |\n",
      "+=============+=======+\n",
      "| Accuracy    | 0.973 |\n",
      "+-------------+-------+\n",
      "| Precision   | 0.959 |\n",
      "+-------------+-------+\n",
      "| Sensitivity | 0.969 |\n",
      "+-------------+-------+\n",
      "| Specificity | 0.975 |\n",
      "+-------------+-------+\n",
      "| F1 Score    | 0.964 |\n",
      "+-------------+-------+\n",
      "+----------+ Testing +----------+\n",
      "+---------------------+------------------+------------------+\n",
      "|       n = 57        | Positive(Actual) | Negative(Actual) |\n",
      "+=====================+==================+==================+\n",
      "| Positive(Predicted) | 16               | 7                |\n",
      "+---------------------+------------------+------------------+\n",
      "| Negative(Predicted) | 5                | 29               |\n",
      "+---------------------+------------------+------------------+\n",
      "+-------------+-------+\n",
      "|   Metric    |   #   |\n",
      "+=============+=======+\n",
      "| Accuracy    | 0.789 |\n",
      "+-------------+-------+\n",
      "| Precision   | 0.696 |\n",
      "+-------------+-------+\n",
      "| Sensitivity | 0.762 |\n",
      "+-------------+-------+\n",
      "| Specificity | 0.806 |\n",
      "+-------------+-------+\n",
      "| F1 Score    | 0.727 |\n",
      "+-------------+-------+\n"
     ]
    },
    {
     "name": "stderr",
     "output_type": "stream",
     "text": [
      "100%|████████████████████████████████████| 191/191 [00:00<00:00, 2033279.35it/s]\n",
      "100%|████████████████████████████████████| 321/321 [00:00<00:00, 2452407.26it/s]"
     ]
    },
    {
     "name": "stdout",
     "output_type": "stream",
     "text": [
      "+----------+ Hypothesis +----------+\n",
      "['target(A):-mean_concave_points(A,g2),worst_area(A,g2)', 'target(A):-mean_concave_points(A,g2),radius_error(A,g0)', 'target(A):-concave_points_error(A,g0),worst_radius(A,g2)', 'target(A):-compactness_error(A,g0),worst_concavity(A,g2)', 'target(A):-compactness_error(A,g0),worst_concave_points(A,g2)', 'target(A):-mean_radius(A,g1),worst_radius(A,g2)', 'target(A):-mean_texture(A,g2),texture_error(A,g0)', 'target(A):-fractal_dimension_error(A,g0),mean_concavity(A,g2)', 'target(A):-texture_error(A,g0),worst_radius(A,g2)', 'target(A):-symmetry_error(A,g2),worst_radius(A,g2)', 'target(A):-symmetry_error(A,g1),worst_radius(A,g2)', 'target(A):-mean_concavity(A,g2),mean_fractal_dimension(A,g0)', 'target(A):-mean_radius(A,g2),smoothness_error(A,g2)', 'target(A):-symmetry_error(A,g2),worst_area(A,g2)', 'target(A):-symmetry_error(A,g1),worst_concave_points(A,g2)', 'target(A):-smoothness_error(A,g1),worst_radius(A,g2)', 'target(A):-concave_points_error(A,g1),worst_concave_points(A,g2)', 'target(A):-concavity_error(A,g1),worst_concave_points(A,g2)', 'target(A):-mean_texture(A,g2),worst_concave_points(A,g2)', 'target(A):-worst_perimeter(A,g2),worst_smoothness(A,g2)']\n"
     ]
    },
    {
     "name": "stderr",
     "output_type": "stream",
     "text": [
      "\n"
     ]
    },
    {
     "name": "stdout",
     "output_type": "stream",
     "text": [
      "+----------+ Training +----------+\n",
      "+---------------------+------------------+------------------+\n",
      "|       n = 512       | Positive(Actual) | Negative(Actual) |\n",
      "+=====================+==================+==================+\n",
      "| Positive(Predicted) | 180              | 9                |\n",
      "+---------------------+------------------+------------------+\n",
      "| Negative(Predicted) | 11               | 312              |\n",
      "+---------------------+------------------+------------------+\n",
      "+-------------+-------+\n",
      "|   Metric    |   #   |\n",
      "+=============+=======+\n",
      "| Accuracy    | 0.961 |\n",
      "+-------------+-------+\n",
      "| Precision   | 0.952 |\n",
      "+-------------+-------+\n",
      "| Sensitivity | 0.942 |\n",
      "+-------------+-------+\n",
      "| Specificity | 0.972 |\n",
      "+-------------+-------+\n",
      "| F1 Score    | 0.947 |\n",
      "+-------------+-------+\n",
      "+----------+ Testing +----------+\n",
      "+---------------------+------------------+------------------+\n",
      "|       n = 57        | Positive(Actual) | Negative(Actual) |\n",
      "+=====================+==================+==================+\n",
      "| Positive(Predicted) | 20               | 1                |\n",
      "+---------------------+------------------+------------------+\n",
      "| Negative(Predicted) | 1                | 35               |\n",
      "+---------------------+------------------+------------------+\n",
      "+-------------+-------+\n",
      "|   Metric    |   #   |\n",
      "+=============+=======+\n",
      "| Accuracy    | 0.965 |\n",
      "+-------------+-------+\n",
      "| Precision   | 0.952 |\n",
      "+-------------+-------+\n",
      "| Sensitivity | 0.952 |\n",
      "+-------------+-------+\n",
      "| Specificity | 0.972 |\n",
      "+-------------+-------+\n",
      "| F1 Score    | 0.952 |\n",
      "+-------------+-------+\n"
     ]
    },
    {
     "name": "stderr",
     "output_type": "stream",
     "text": [
      "100%|████████████████████████████████████| 191/191 [00:00<00:00, 1438262.23it/s]\n",
      "100%|████████████████████████████████████| 321/321 [00:00<00:00, 2243952.64it/s]\n"
     ]
    },
    {
     "name": "stdout",
     "output_type": "stream",
     "text": [
      "+----------+ Hypothesis +----------+\n",
      "['target(A):-worst_concave_points(A,g2),worst_perimeter(A,g2)', 'target(A):-perimeter_error(A,g0),worst_radius(A,g2)', 'target(A):-perimeter_error(A,g0),worst_concave_points(A,g2)', 'target(A):-mean_perimeter(A,g1),worst_radius(A,g2)', 'target(A):-mean_concave_points(A,g2),radius_error(A,g0)', 'target(A):-worst_compactness(A,g0),worst_perimeter(A,g2)', 'target(A):-compactness_error(A,g0),mean_concavity(A,g2)', 'target(A):-concave_points_error(A,g0),worst_radius(A,g2)', 'target(A):-compactness_error(A,g0),worst_concavity(A,g2)', 'target(A):-mean_radius(A,g1),worst_radius(A,g2)', 'target(A):-mean_texture(A,g2),texture_error(A,g0)', 'target(A):-mean_concavity(A,g2),worst_fractal_dimension(A,g0)', 'target(A):-fractal_dimension_error(A,g0),mean_concavity(A,g2)', 'target(A):-mean_symmetry(A,g0),worst_radius(A,g2)', 'target(A):-mean_radius(A,g2),perimeter_error(A,g1)', 'target(A):-mean_compactness(A,g1),worst_radius(A,g2)', 'target(A):-symmetry_error(A,g2),worst_radius(A,g2)', 'target(A):-texture_error(A,g0),worst_radius(A,g2)', 'target(A):-fractal_dimension_error(A,g1),worst_concave_points(A,g2)', 'target(A):-symmetry_error(A,g1),worst_concave_points(A,g2)', 'target(A):-concavity_error(A,g1),worst_concave_points(A,g2)', 'target(A):-mean_area(A,g2),mean_texture(A,g2)', 'target(A):-mean_texture(A,g2),worst_concave_points(A,g2)', 'target(A):-worst_perimeter(A,g2),worst_smoothness(A,g2)', 'target(A):-mean_texture(A,g2),worst_area(A,g2)']\n",
      "+----------+ Training +----------+\n",
      "+---------------------+------------------+------------------+\n",
      "|       n = 512       | Positive(Actual) | Negative(Actual) |\n",
      "+=====================+==================+==================+\n",
      "| Positive(Predicted) | 181              | 10               |\n",
      "+---------------------+------------------+------------------+\n",
      "| Negative(Predicted) | 10               | 311              |\n",
      "+---------------------+------------------+------------------+\n",
      "+-------------+-------+\n",
      "|   Metric    |   #   |\n",
      "+=============+=======+\n",
      "| Accuracy    | 0.961 |\n",
      "+-------------+-------+\n",
      "| Precision   | 0.948 |\n",
      "+-------------+-------+\n",
      "| Sensitivity | 0.948 |\n",
      "+-------------+-------+\n",
      "| Specificity | 0.969 |\n",
      "+-------------+-------+\n",
      "| F1 Score    | 0.948 |\n",
      "+-------------+-------+\n",
      "+----------+ Testing +----------+\n",
      "+---------------------+------------------+------------------+\n",
      "|       n = 57        | Positive(Actual) | Negative(Actual) |\n",
      "+=====================+==================+==================+\n",
      "| Positive(Predicted) | 21               | 1                |\n",
      "+---------------------+------------------+------------------+\n",
      "| Negative(Predicted) | 0                | 35               |\n",
      "+---------------------+------------------+------------------+\n",
      "+-------------+-------+\n",
      "|   Metric    |   #   |\n",
      "+=============+=======+\n",
      "| Accuracy    | 0.982 |\n",
      "+-------------+-------+\n",
      "| Precision   | 0.955 |\n",
      "+-------------+-------+\n",
      "| Sensitivity | 1     |\n",
      "+-------------+-------+\n",
      "| Specificity | 0.972 |\n",
      "+-------------+-------+\n",
      "| F1 Score    | 0.977 |\n",
      "+-------------+-------+\n"
     ]
    },
    {
     "name": "stderr",
     "output_type": "stream",
     "text": [
      "100%|████████████████████████████████████| 191/191 [00:00<00:00, 1925750.15it/s]\n",
      "100%|████████████████████████████████████| 321/321 [00:00<00:00, 2507209.65it/s]"
     ]
    },
    {
     "name": "stdout",
     "output_type": "stream",
     "text": [
      "+----------+ Hypothesis +----------+\n",
      "['target(A):-worst_concave_points(A,g2),worst_perimeter(A,g2)', 'target(A):-mean_concave_points(A,g2),radius_error(A,g0)', 'target(A):-mean_perimeter(A,g1),worst_radius(A,g2)', 'target(A):-perimeter_error(A,g0),worst_concave_points(A,g2)', 'target(A):-concave_points_error(A,g0),worst_radius(A,g2)', 'target(A):-compactness_error(A,g0),mean_concavity(A,g2)', 'target(A):-compactness_error(A,g0),worst_concavity(A,g2)', 'target(A):-mean_radius(A,g1),worst_radius(A,g2)', 'target(A):-mean_texture(A,g0),worst_radius(A,g2)', 'target(A):-compactness_error(A,g0),worst_radius(A,g2)', 'target(A):-mean_texture(A,g2),texture_error(A,g0)', 'target(A):-mean_concavity(A,g2),worst_fractal_dimension(A,g0)', 'target(A):-fractal_dimension_error(A,g0),mean_concavity(A,g2)', 'target(A):-mean_fractal_dimension(A,g2),worst_radius(A,g2)', 'target(A):-mean_compactness(A,g1),worst_radius(A,g2)', 'target(A):-mean_radius(A,g2),worst_symmetry(A,g1)', 'target(A):-concave_points_error(A,g1),worst_concave_points(A,g2)', 'target(A):-symmetry_error(A,g1),worst_concave_points(A,g2)', 'target(A):-concavity_error(A,g1),worst_concave_points(A,g2)', 'target(A):-texture_error(A,g1),worst_area(A,g2)', 'target(A):-mean_area(A,g2),mean_texture(A,g2)', 'target(A):-worst_perimeter(A,g2),worst_smoothness(A,g2)', 'target(A):-mean_texture(A,g2),worst_concave_points(A,g2)']\n"
     ]
    },
    {
     "name": "stderr",
     "output_type": "stream",
     "text": [
      "\n"
     ]
    },
    {
     "name": "stdout",
     "output_type": "stream",
     "text": [
      "+----------+ Training +----------+\n",
      "+---------------------+------------------+------------------+\n",
      "|       n = 512       | Positive(Actual) | Negative(Actual) |\n",
      "+=====================+==================+==================+\n",
      "| Positive(Predicted) | 183              | 9                |\n",
      "+---------------------+------------------+------------------+\n",
      "| Negative(Predicted) | 8                | 312              |\n",
      "+---------------------+------------------+------------------+\n",
      "+-------------+-------+\n",
      "|   Metric    |   #   |\n",
      "+=============+=======+\n",
      "| Accuracy    | 0.967 |\n",
      "+-------------+-------+\n",
      "| Precision   | 0.953 |\n",
      "+-------------+-------+\n",
      "| Sensitivity | 0.958 |\n",
      "+-------------+-------+\n",
      "| Specificity | 0.972 |\n",
      "+-------------+-------+\n",
      "| F1 Score    | 0.956 |\n",
      "+-------------+-------+\n",
      "+----------+ Testing +----------+\n",
      "+---------------------+------------------+------------------+\n",
      "|       n = 57        | Positive(Actual) | Negative(Actual) |\n",
      "+=====================+==================+==================+\n",
      "| Positive(Predicted) | 19               | 2                |\n",
      "+---------------------+------------------+------------------+\n",
      "| Negative(Predicted) | 2                | 34               |\n",
      "+---------------------+------------------+------------------+\n",
      "+-------------+-------+\n",
      "|   Metric    |   #   |\n",
      "+=============+=======+\n",
      "| Accuracy    | 0.930 |\n",
      "+-------------+-------+\n",
      "| Precision   | 0.905 |\n",
      "+-------------+-------+\n",
      "| Sensitivity | 0.905 |\n",
      "+-------------+-------+\n",
      "| Specificity | 0.944 |\n",
      "+-------------+-------+\n",
      "| F1 Score    | 0.905 |\n",
      "+-------------+-------+\n"
     ]
    },
    {
     "name": "stderr",
     "output_type": "stream",
     "text": [
      "100%|████████████████████████████████████| 191/191 [00:00<00:00, 1871757.16it/s]\n",
      "100%|████████████████████████████████████| 322/322 [00:00<00:00, 2464536.29it/s]"
     ]
    },
    {
     "name": "stdout",
     "output_type": "stream",
     "text": [
      "+----------+ Hypothesis +----------+\n",
      "['target(A):-worst_concave_points(A,g2),worst_perimeter(A,g2)', 'target(A):-perimeter_error(A,g0),worst_concave_points(A,g2)', 'target(A):-perimeter_error(A,g0),worst_radius(A,g2)', 'target(A):-mean_concave_points(A,g2),radius_error(A,g0)', 'target(A):-mean_perimeter(A,g1),worst_radius(A,g2)', 'target(A):-compactness_error(A,g0),mean_concavity(A,g2)', 'target(A):-concave_points_error(A,g0),worst_radius(A,g2)', 'target(A):-compactness_error(A,g0),worst_concavity(A,g2)', 'target(A):-mean_radius(A,g1),worst_radius(A,g2)', 'target(A):-mean_concave_points(A,g2),mean_symmetry(A,g0)', 'target(A):-mean_concavity(A,g2),worst_fractal_dimension(A,g0)', 'target(A):-fractal_dimension_error(A,g0),mean_concavity(A,g2)', 'target(A):-symmetry_error(A,g2),worst_radius(A,g2)', 'target(A):-mean_radius(A,g2),symmetry_error(A,g2)', 'target(A):-mean_concave_points(A,g2),mean_smoothness(A,g1)', 'target(A):-mean_fractal_dimension(A,g1),mean_radius(A,g2)', 'target(A):-mean_radius(A,g2),smoothness_error(A,g2)', 'target(A):-worst_radius(A,g2),worst_symmetry(A,g1)', 'target(A):-fractal_dimension_error(A,g1),worst_concave_points(A,g2)', 'target(A):-worst_fractal_dimension(A,g1),worst_radius(A,g2)', 'target(A):-symmetry_error(A,g1),worst_concave_points(A,g2)', 'target(A):-concavity_error(A,g1),worst_concave_points(A,g2)', 'target(A):-area_error(A,g2),worst_texture(A,g2)', 'target(A):-worst_perimeter(A,g2),worst_smoothness(A,g2)', 'target(A):-mean_concave_points(A,g2),worst_texture(A,g2)']\n"
     ]
    },
    {
     "name": "stderr",
     "output_type": "stream",
     "text": [
      "\n"
     ]
    },
    {
     "name": "stdout",
     "output_type": "stream",
     "text": [
      "+----------+ Training +----------+\n",
      "+---------------------+------------------+------------------+\n",
      "|       n = 513       | Positive(Actual) | Negative(Actual) |\n",
      "+=====================+==================+==================+\n",
      "| Positive(Predicted) | 180              | 9                |\n",
      "+---------------------+------------------+------------------+\n",
      "| Negative(Predicted) | 11               | 313              |\n",
      "+---------------------+------------------+------------------+\n",
      "+-------------+-------+\n",
      "|   Metric    |   #   |\n",
      "+=============+=======+\n",
      "| Accuracy    | 0.961 |\n",
      "+-------------+-------+\n",
      "| Precision   | 0.952 |\n",
      "+-------------+-------+\n",
      "| Sensitivity | 0.942 |\n",
      "+-------------+-------+\n",
      "| Specificity | 0.972 |\n",
      "+-------------+-------+\n",
      "| F1 Score    | 0.947 |\n",
      "+-------------+-------+\n",
      "+----------+ Testing +----------+\n",
      "+---------------------+------------------+------------------+\n",
      "|       n = 56        | Positive(Actual) | Negative(Actual) |\n",
      "+=====================+==================+==================+\n",
      "| Positive(Predicted) | 20               | 2                |\n",
      "+---------------------+------------------+------------------+\n",
      "| Negative(Predicted) | 1                | 33               |\n",
      "+---------------------+------------------+------------------+\n",
      "+-------------+-------+\n",
      "|   Metric    |   #   |\n",
      "+=============+=======+\n",
      "| Accuracy    | 0.946 |\n",
      "+-------------+-------+\n",
      "| Precision   | 0.909 |\n",
      "+-------------+-------+\n",
      "| Sensitivity | 0.952 |\n",
      "+-------------+-------+\n",
      "| Specificity | 0.943 |\n",
      "+-------------+-------+\n",
      "| F1 Score    | 0.930 |\n",
      "+-------------+-------+\n"
     ]
    },
    {
     "name": "stderr",
     "output_type": "stream",
     "text": [
      "100%|████████████████████████████████████| 191/191 [00:00<00:00, 1631592.80it/s]\n",
      "100%|████████████████████████████████████| 322/322 [00:00<00:00, 1602094.77it/s]"
     ]
    },
    {
     "name": "stdout",
     "output_type": "stream",
     "text": [
      "+----------+ Hypothesis +----------+\n",
      "['target(A):-mean_concave_points(A,g2),worst_perimeter(A,g2)', 'target(A):-concavity_error(A,g0),worst_concave_points(A,g2)', 'target(A):-perimeter_error(A,g0),worst_concave_points(A,g2)', 'target(A):-perimeter_error(A,g0),worst_radius(A,g2)', 'target(A):-mean_concave_points(A,g2),radius_error(A,g0)', 'target(A):-mean_perimeter(A,g1),worst_radius(A,g2)', 'target(A):-mean_radius(A,g2),worst_compactness(A,g0)', 'target(A):-compactness_error(A,g0),worst_concavity(A,g2)', 'target(A):-concave_points_error(A,g0),worst_radius(A,g2)', 'target(A):-area_error(A,g2),radius_error(A,g1)', 'target(A):-mean_concavity(A,g2),worst_fractal_dimension(A,g0)', 'target(A):-mean_smoothness(A,g0),worst_radius(A,g2)', 'target(A):-fractal_dimension_error(A,g0),mean_concavity(A,g2)', 'target(A):-worst_radius(A,g2),worst_symmetry(A,g1)', 'target(A):-symmetry_error(A,g2),worst_perimeter(A,g2)', 'target(A):-area_error(A,g2),mean_smoothness(A,g1)', 'target(A):-symmetry_error(A,g1),worst_concave_points(A,g2)', 'target(A):-mean_concave_points(A,g2),symmetry_error(A,g0)', 'target(A):-concavity_error(A,g1),mean_concavity(A,g2)', 'target(A):-mean_texture(A,g2),worst_concave_points(A,g2)', 'target(A):-worst_perimeter(A,g2),worst_smoothness(A,g2)', 'target(A):-worst_concave_points(A,g2),worst_texture(A,g2)']\n"
     ]
    },
    {
     "name": "stderr",
     "output_type": "stream",
     "text": [
      "\n"
     ]
    },
    {
     "name": "stdout",
     "output_type": "stream",
     "text": [
      "+----------+ Training +----------+\n",
      "+---------------------+------------------+------------------+\n",
      "|       n = 513       | Positive(Actual) | Negative(Actual) |\n",
      "+=====================+==================+==================+\n",
      "| Positive(Predicted) | 182              | 10               |\n",
      "+---------------------+------------------+------------------+\n",
      "| Negative(Predicted) | 9                | 312              |\n",
      "+---------------------+------------------+------------------+\n",
      "+-------------+-------+\n",
      "|   Metric    |   #   |\n",
      "+=============+=======+\n",
      "| Accuracy    | 0.963 |\n",
      "+-------------+-------+\n",
      "| Precision   | 0.948 |\n",
      "+-------------+-------+\n",
      "| Sensitivity | 0.953 |\n",
      "+-------------+-------+\n",
      "| Specificity | 0.969 |\n",
      "+-------------+-------+\n",
      "| F1 Score    | 0.950 |\n",
      "+-------------+-------+\n",
      "+----------+ Testing +----------+\n",
      "+---------------------+------------------+------------------+\n",
      "|       n = 56        | Positive(Actual) | Negative(Actual) |\n",
      "+=====================+==================+==================+\n",
      "| Positive(Predicted) | 20               | 5                |\n",
      "+---------------------+------------------+------------------+\n",
      "| Negative(Predicted) | 1                | 30               |\n",
      "+---------------------+------------------+------------------+\n",
      "+-------------+-------+\n",
      "|   Metric    |   #   |\n",
      "+=============+=======+\n",
      "| Accuracy    | 0.893 |\n",
      "+-------------+-------+\n",
      "| Precision   | 0.800 |\n",
      "+-------------+-------+\n",
      "| Sensitivity | 0.952 |\n",
      "+-------------+-------+\n",
      "| Specificity | 0.857 |\n",
      "+-------------+-------+\n",
      "| F1 Score    | 0.870 |\n",
      "+-------------+-------+\n"
     ]
    },
    {
     "name": "stderr",
     "output_type": "stream",
     "text": [
      "100%|████████████████████████████████████| 191/191 [00:00<00:00, 1968334.31it/s]\n",
      "100%|█████████████████████████████████████| 322/322 [00:00<00:00, 762600.73it/s]"
     ]
    },
    {
     "name": "stdout",
     "output_type": "stream",
     "text": [
      "+----------+ Hypothesis +----------+\n",
      "['target(A):-worst_concave_points(A,g2),worst_perimeter(A,g2)', 'target(A):-radius_error(A,g0),worst_radius(A,g2)', 'target(A):-mean_concave_points(A,g2),radius_error(A,g0)', 'target(A):-mean_perimeter(A,g1),worst_radius(A,g2)', 'target(A):-perimeter_error(A,g0),worst_concave_points(A,g2)', 'target(A):-compactness_error(A,g0),mean_concavity(A,g2)', 'target(A):-concave_points_error(A,g0),worst_radius(A,g2)', 'target(A):-compactness_error(A,g0),worst_concavity(A,g2)', 'target(A):-fractal_dimension_error(A,g0),worst_compactness(A,g2)', 'target(A):-mean_concavity(A,g2),worst_fractal_dimension(A,g0)', 'target(A):-perimeter_error(A,g1),worst_radius(A,g2)', 'target(A):-symmetry_error(A,g2),worst_radius(A,g2)', 'target(A):-mean_radius(A,g2),smoothness_error(A,g2)', 'target(A):-texture_error(A,g0),worst_radius(A,g2)', 'target(A):-area_error(A,g2),symmetry_error(A,g1)', 'target(A):-symmetry_error(A,g1),worst_concave_points(A,g2)', 'target(A):-mean_compactness(A,g2),mean_texture(A,g2)', 'target(A):-mean_area(A,g2),mean_texture(A,g2)', 'target(A):-mean_texture(A,g2),worst_area(A,g2)', 'target(A):-worst_perimeter(A,g2),worst_smoothness(A,g2)', 'target(A):-worst_concave_points(A,g2),worst_texture(A,g2)']\n"
     ]
    },
    {
     "name": "stderr",
     "output_type": "stream",
     "text": [
      "\n"
     ]
    },
    {
     "name": "stdout",
     "output_type": "stream",
     "text": [
      "+----------+ Training +----------+\n",
      "+---------------------+------------------+------------------+\n",
      "|       n = 513       | Positive(Actual) | Negative(Actual) |\n",
      "+=====================+==================+==================+\n",
      "| Positive(Predicted) | 182              | 9                |\n",
      "+---------------------+------------------+------------------+\n",
      "| Negative(Predicted) | 9                | 313              |\n",
      "+---------------------+------------------+------------------+\n",
      "+-------------+-------+\n",
      "|   Metric    |   #   |\n",
      "+=============+=======+\n",
      "| Accuracy    | 0.965 |\n",
      "+-------------+-------+\n",
      "| Precision   | 0.953 |\n",
      "+-------------+-------+\n",
      "| Sensitivity | 0.953 |\n",
      "+-------------+-------+\n",
      "| Specificity | 0.972 |\n",
      "+-------------+-------+\n",
      "| F1 Score    | 0.953 |\n",
      "+-------------+-------+\n",
      "+----------+ Testing +----------+\n",
      "+---------------------+------------------+------------------+\n",
      "|       n = 56        | Positive(Actual) | Negative(Actual) |\n",
      "+=====================+==================+==================+\n",
      "| Positive(Predicted) | 21               | 6                |\n",
      "+---------------------+------------------+------------------+\n",
      "| Negative(Predicted) | 0                | 29               |\n",
      "+---------------------+------------------+------------------+\n",
      "+-------------+-------+\n",
      "|   Metric    |   #   |\n",
      "+=============+=======+\n",
      "| Accuracy    | 0.893 |\n",
      "+-------------+-------+\n",
      "| Precision   | 0.778 |\n",
      "+-------------+-------+\n",
      "| Sensitivity | 1     |\n",
      "+-------------+-------+\n",
      "| Specificity | 0.829 |\n",
      "+-------------+-------+\n",
      "| F1 Score    | 0.875 |\n",
      "+-------------+-------+\n"
     ]
    }
   ],
   "source": [
    "model_1_CV=pygol_cross_validation(folds, k_fold=10,  max_literals=2,   \n",
    "                                       constant_set=const, min_pos=5, max_neg=1)"
   ]
  },
  {
   "cell_type": "code",
   "execution_count": 12,
   "id": "0ba89d7d",
   "metadata": {},
   "outputs": [
    {
     "data": {
      "text/plain": [
       "0.9104000000000001"
      ]
     },
     "execution_count": 12,
     "metadata": {},
     "output_type": "execute_result"
    }
   ],
   "source": [
    "np.mean(model_1_CV.accuracy)"
   ]
  },
  {
   "cell_type": "markdown",
   "id": "ee9a4334",
   "metadata": {},
   "source": [
    "## Modelling with typical machine learning"
   ]
  },
  {
   "cell_type": "code",
   "execution_count": 13,
   "id": "8fd418eb",
   "metadata": {},
   "outputs": [
    {
     "name": "stdout",
     "output_type": "stream",
     "text": [
      "Naive Bayes: 0.936779 (0.028444)\n",
      "SVM: 0.924373 (0.021107)\n",
      "DT: 0.917513 (0.031368)\n",
      "Perc.: 0.896366 (0.034483)\n",
      "MLP: 0.943828 (0.018831)\n",
      "PyGol: 0.910400 (0.058043)\n"
     ]
    },
    {
     "data": {
      "image/png": "[encoded data removed]",
      "text/plain": [
       "<Figure size 960x720 with 1 Axes>"
      ]
     },
     "metadata": {},
     "output_type": "display_data"
    }
   ],
   "source": [
    "models = []\n",
    "models.append(('Naive Bayes', GaussianNB()))\n",
    "models.append(('SVM', svm.SVC(gamma=0.001)))\n",
    "models.append(('DT', DecisionTreeClassifier()))\n",
    "models.append(('Perc.', Perceptron(eta0=0.1, random_state=0, max_iter=1000)))\n",
    "models.append(('MLP', MLPClassifier( activation='logistic', hidden_layer_sizes=(1000,), max_iter=1000)))\n",
    "results = []\n",
    "names = []\n",
    "means_set=[]\n",
    "error_set=[]\n",
    "for name, model in models:\n",
    "    kfold = StratifiedKFold(n_splits=10)\n",
    "    cv_results = cross_val_score(model, X, y, cv=kfold, scoring='accuracy')\n",
    "    results.append(cv_results)\n",
    "    names.append(name)\n",
    "    print('%s: %f (%f)' % (name, cv_results.mean(), cv_results.std()))\n",
    "    means_set.append(cv_results.mean())\n",
    "    error_set.append(cv_results.std())\n",
    "print('%s: %f (%f)' % (\"PyGol\", np.mean(model_1_CV.accuracy), np.std(model_1_CV.accuracy)))\n",
    "\n",
    "fig = pyplot.figure(dpi=150)\n",
    "results.append(np.array(model_1_CV.accuracy))\n",
    "means_set.append(np.mean(model_1_CV.accuracy))\n",
    "error_set.append(np.std(model_1_CV.accuracy))\n",
    "names.append(\"PyGol\")\n",
    "pyplot.boxplot(results, labels=names)\n",
    "pyplot.ylabel('Time(Sec.)')\n",
    "pyplot.xlabel('Model')\n",
    "pyplot.title('10-fold cross-validation on Breast Cancer Dataset')\n",
    "pyplot.show()"
   ]
  },
  {
   "cell_type": "code",
   "execution_count": null,
   "id": "d7bad5fc",
   "metadata": {},
   "outputs": [],
   "source": []
  }
 ],
 "metadata": {
  "kernelspec": {
   "display_name": "Python 3 (ipykernel)",
   "language": "python",
   "name": "python3"
  },
  "language_info": {
   "codemirror_mode": {
    "name": "ipython",
    "version": 3
   },
   "file_extension": ".py",
   "mimetype": "text/x-python",
   "name": "python",
   "nbconvert_exporter": "python",
   "pygments_lexer": "ipython3",
   "version": "3.12.2"
  }
 },
 "nbformat": 4,
 "nbformat_minor": 5
}
