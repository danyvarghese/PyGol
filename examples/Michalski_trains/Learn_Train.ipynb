{
 "cells": [
  {
   "cell_type": "markdown",
   "id": "5d2e4df4",
   "metadata": {},
   "source": [
    "<center><font color=\"blue\"> <h1>Michalski’s trains problem</h1></center>\n",
    "\n",
    "Michalski’s trains problem is a classic machine learning problem where the learning task is to discover a general pattern or rule that can be used to classify five eastbound trains vs five westbound trains as shown in the figure below. \n",
    "        \n",
    "<img src=\"https://www.researchgate.net/profile/Reza-Farid-2/publication/267041969/figure/fig19/AS:668940321714184@1536499209705/The-TRAINS-problem-Michalski-1987-Srinivasan-2002.png\">"
   ]
  },
  {
   "cell_type": "markdown",
   "id": "2d41e0b1",
   "metadata": {},
   "source": [
    "### Import package from root folder"
   ]
  },
  {
   "cell_type": "code",
   "execution_count": 1,
   "id": "37ff226d",
   "metadata": {},
   "outputs": [],
   "source": [
    "import sys\n",
    "sys.path.insert(0, '../../')\n",
    "from PyGol import *"
   ]
  },
  {
   "cell_type": "markdown",
   "id": "0dc2f0c5",
   "metadata": {},
   "source": [
    "### Pre-Processing\n",
    "1. Define the constants\n",
    "2. Generate the bottom clauses"
   ]
  },
  {
   "cell_type": "code",
   "execution_count": 2,
   "id": "fb023367",
   "metadata": {},
   "outputs": [
    {
     "name": "stderr",
     "output_type": "stream",
     "text": [
      "100%|███████████████████████████████████████████| 5/5 [00:00<00:00, 1134.82it/s]\n",
      "100%|███████████████████████████████████████████| 5/5 [00:00<00:00, 1258.57it/s]\n"
     ]
    }
   ],
   "source": [
    "const=[\"elipse\", \"hexagon\",\"rectangle\",\"u_shaped\",\"triangle\",\"hexagon\",\"circle\",\"nil\"]\n",
    "P, N = bottom_clause_generation(constant_set = const,  container = \"memory\")"
   ]
  },
  {
   "cell_type": "markdown",
   "id": "2265b71a",
   "metadata": {},
   "source": [
    "### Dataset split\n",
    "Note : Here test size is 0"
   ]
  },
  {
   "cell_type": "code",
   "execution_count": 3,
   "id": "b1590179",
   "metadata": {},
   "outputs": [],
   "source": [
    "Train_P, Test_P, Train_N, Test_N=pygol_train_test_split(test_size=0, positive_file_dictionary=P, negative_file_dictionary=N)"
   ]
  },
  {
   "cell_type": "markdown",
   "id": "1295e2c4",
   "metadata": {},
   "source": [
    "### Learning using PyGolM"
   ]
  },
  {
   "cell_type": "code",
   "execution_count": 7,
   "id": "de76fe8a",
   "metadata": {},
   "outputs": [
    {
     "name": "stderr",
     "output_type": "stream",
     "text": [
      "100%|█████████████████████████████████████████████| 5/5 [00:00<00:00, 99.05it/s]\n",
      "100%|████████████████████████████████████████████| 5/5 [00:00<00:00, 173.06it/s]"
     ]
    },
    {
     "name": "stdout",
     "output_type": "stream",
     "text": [
      "+----------+ Hypothesis +----------+\n",
      "['eastbound(A):-has_car(A,B),closed(B),short(B)']\n",
      "+----------+ Training +----------+\n",
      "+---------------------+------------------+------------------+\n",
      "|       n = 10        | Positive(Actual) | Negative(Actual) |\n",
      "+=====================+==================+==================+\n",
      "| Positive(Predicted) | 5                | 0                |\n",
      "+---------------------+------------------+------------------+\n",
      "| Negative(Predicted) | 0                | 5                |\n",
      "+---------------------+------------------+------------------+\n",
      "+-------------+---+\n",
      "|   Metric    | # |\n",
      "+=============+===+\n",
      "| Accuracy    | 1 |\n",
      "+-------------+---+\n",
      "| Precision   | 1 |\n",
      "+-------------+---+\n",
      "| Sensitivity | 1 |\n",
      "+-------------+---+\n",
      "| Specificity | 1 |\n",
      "+-------------+---+\n",
      "| F1 Score    | 1 |\n",
      "+-------------+---+\n"
     ]
    },
    {
     "name": "stderr",
     "output_type": "stream",
     "text": [
      "\n"
     ]
    }
   ],
   "source": [
    "model= pygol_learn(Train_P, Train_N,  max_neg=0, max_literals=3, key_size=1)"
   ]
  },
  {
   "cell_type": "code",
   "execution_count": 8,
   "id": "2135a6db",
   "metadata": {},
   "outputs": [
    {
     "name": "stdout",
     "output_type": "stream",
     "text": [
      "0.10775518417358398\n"
     ]
    }
   ],
   "source": [
    "print(model.time_learn)"
   ]
  },
  {
   "cell_type": "markdown",
   "id": "bd35120e",
   "metadata": {},
   "source": [
    "### Test the learned rules using Prolog"
   ]
  },
  {
   "cell_type": "code",
   "execution_count": 9,
   "id": "271e1df5",
   "metadata": {},
   "outputs": [
    {
     "name": "stdout",
     "output_type": "stream",
     "text": [
      "+----------+ Testing +----------+\n",
      "+---------------------+------------------+------------------+\n",
      "|       n = 10        | Positive(Actual) | Negative(Actual) |\n",
      "+=====================+==================+==================+\n",
      "| Positive(Predicted) | 5                | 0                |\n",
      "+---------------------+------------------+------------------+\n",
      "| Negative(Predicted) | 0                | 5                |\n",
      "+---------------------+------------------+------------------+\n",
      "+-------------+---+\n",
      "|   Metric    | # |\n",
      "+=============+===+\n",
      "| Accuracy    | 1 |\n",
      "+-------------+---+\n",
      "| Precision   | 1 |\n",
      "+-------------+---+\n",
      "| Sensitivity | 1 |\n",
      "+-------------+---+\n",
      "| Specificity | 1 |\n",
      "+-------------+---+\n",
      "| F1 Score    | 1 |\n",
      "+-------------+---+\n"
     ]
    }
   ],
   "source": [
    "metrics=evaluate_theory_prolog(model.hypothesis,\"BK.pl\",Train_P, Train_N)"
   ]
  },
  {
   "cell_type": "code",
   "execution_count": null,
   "id": "282f8582-0231-46c8-943a-4f324c1d053d",
   "metadata": {},
   "outputs": [],
   "source": []
  }
 ],
 "metadata": {
  "kernelspec": {
   "display_name": "Python 3 (ipykernel)",
   "language": "python",
   "name": "python3"
  },
  "language_info": {
   "codemirror_mode": {
    "name": "ipython",
    "version": 3
   },
   "file_extension": ".py",
   "mimetype": "text/x-python",
   "name": "python",
   "nbconvert_exporter": "python",
   "pygments_lexer": "ipython3",
   "version": "3.12.2"
  }
 },
 "nbformat": 4,
 "nbformat_minor": 5
}
