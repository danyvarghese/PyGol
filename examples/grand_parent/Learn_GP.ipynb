{
 "cells": [
  {
   "cell_type": "code",
   "execution_count": 2,
   "id": "a010cc36-208c-4d24-b497-1fe995f8655e",
   "metadata": {},
   "outputs": [],
   "source": [
    "import sys\n",
    "sys.path.insert(0, '../../')\n",
    "from PyGol import *"
   ]
  },
  {
   "cell_type": "code",
   "execution_count": 3,
   "id": "282f8582-0231-46c8-943a-4f324c1d053d",
   "metadata": {},
   "outputs": [
    {
     "name": "stderr",
     "output_type": "stream",
     "text": [
      "100%|███████████████████████████████████████████| 5/5 [00:00<00:00, 1464.59it/s]\n",
      "100%|████████████████████████████████████████████| 1/1 [00:00<00:00, 734.81it/s]\n",
      "100%|███████████████████████████████████████████| 5/5 [00:00<00:00, 1425.37it/s]\n",
      "100%|███████████████████████████████████████████| 1/1 [00:00<00:00, 3521.67it/s]"
     ]
    },
    {
     "name": "stdout",
     "output_type": "stream",
     "text": [
      "+----------+ Hypothesis +----------+\n",
      "['grandparent(A,B):-p_0(A,C),p_0(C,B)', 'p_0(A,B):-mother(A,B)', 'p_0(A,B):-father(A,B)']\n",
      "+----------+ Training +----------+\n",
      "+---------------------+------------------+------------------+\n",
      "|        n = 6        | Positive(Actual) | Negative(Actual) |\n",
      "+=====================+==================+==================+\n",
      "| Positive(Predicted) | 5                | 0                |\n",
      "+---------------------+------------------+------------------+\n",
      "| Negative(Predicted) | 0                | 1                |\n",
      "+---------------------+------------------+------------------+\n",
      "+-------------+---+\n",
      "|   Metric    | # |\n",
      "+=============+===+\n",
      "| Accuracy    | 1 |\n",
      "+-------------+---+\n",
      "| Precision   | 1 |\n",
      "+-------------+---+\n",
      "| Sensitivity | 1 |\n",
      "+-------------+---+\n",
      "| Specificity | 1 |\n",
      "+-------------+---+\n",
      "| F1 Score    | 1 |\n",
      "+-------------+---+\n"
     ]
    },
    {
     "name": "stderr",
     "output_type": "stream",
     "text": [
      "\n"
     ]
    }
   ],
   "source": [
    "constant = []\n",
    "P, N = bottom_clause_generation(constant_set = constant, container = \"dict\", file = \"BK.pl\",\n",
    "                               positive_example = \"pos_example.f\", negative_example = \"neg_example.n\",\n",
    "                               positive_file_dictionary= \"GP_Pos_BC\", negative_file_dictionary = \"GP_Neg_BC\")\n",
    "Train_P, Test_P, Train_N, Test_N = pygol_train_test_split(test_size= 0, \n",
    "                                                          positive_file_dictionary= \"GP_Pos_BC\", \n",
    "                                                          negative_file_dictionary = \"GP_Neg_BC\")\n",
    "model= pygol_learn(Train_P, Train_N, constant_set = constant, max_neg = 0, file = \"BK.pl\",\n",
    "                     max_literals = 2,  key_size = 4, set_chain = True, rule_noise_check = True, pi = True)"
   ]
  },
  {
   "cell_type": "code",
   "execution_count": null,
   "id": "61cb63ee-0eec-41ec-aee5-e99810361b1d",
   "metadata": {},
   "outputs": [],
   "source": []
  }
 ],
 "metadata": {
  "kernelspec": {
   "display_name": "Python 3 (ipykernel)",
   "language": "python",
   "name": "python3"
  },
  "language_info": {
   "codemirror_mode": {
    "name": "ipython",
    "version": 3
   },
   "file_extension": ".py",
   "mimetype": "text/x-python",
   "name": "python",
   "nbconvert_exporter": "python",
   "pygments_lexer": "ipython3",
   "version": "3.12.2"
  }
 },
 "nbformat": 4,
 "nbformat_minor": 5
}
