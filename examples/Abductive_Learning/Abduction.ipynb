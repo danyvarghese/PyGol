{
 "cells": [
  {
   "cell_type": "markdown",
   "id": "ef31fc29",
   "metadata": {},
   "source": [
    "<center><font color=\"blue\"> <h1>Abductive Learning - A simplified food-web data</h1></center>\n",
    "experiments in the following paper: <a href=\"https://dl.acm.org/doi/abs/10.5555/2991221.2991232\"> Towards Machine Learning of Predictive Models from Ecological Data </a>\n",
    " \n",
    "The task is to learn non-ground and ground hypotheses (including the food-web structure below) from up/down abundance data of 6 species (a, b, c, d, e, and f) from 4 sites (s1, s2, s3 and s4)\n",
    "    \n",
    "     a\n",
    "    / \\\n",
    "    b c\n",
    "    /\\ \\\n",
    "    d e f"
   ]
  },
  {
   "cell_type": "code",
   "execution_count": 1,
   "id": "186ee2cd",
   "metadata": {},
   "outputs": [],
   "source": [
    "import sys\n",
    "sys.path.insert(0, '../../')\n",
    "from PyGol import *"
   ]
  },
  {
   "cell_type": "markdown",
   "id": "84813526",
   "metadata": {},
   "source": [
    "### Pre-Processing\n",
    "1. Define the constants\n",
    "2. Generate the bottom clauses"
   ]
  },
  {
   "cell_type": "code",
   "execution_count": 2,
   "id": "8aa18ec8",
   "metadata": {},
   "outputs": [
    {
     "name": "stderr",
     "output_type": "stream",
     "text": [
      "100%|██████████████████████████████████████████| 24/24 [00:00<00:00, 504.67it/s]"
     ]
    },
    {
     "name": "stdout",
     "output_type": "stream",
     "text": [
      "Counter({'eats(b,d)': 4, 'eats(b,e)': 4, 'eats(c,f)': 4, 'eats(a,c)': 2, 'eats(a,f)': 2, 'eats(a,b)': 2, 'eats(a,d)': 2, 'eats(a,e)': 2})\n"
     ]
    },
    {
     "name": "stderr",
     "output_type": "stream",
     "text": [
      "\n"
     ]
    }
   ],
   "source": [
    "constant_details={\"taxacode\":[0]}\n",
    "const= read_constants_bk(file=\"background_knowledge.pl\",  \n",
    "                               relation=constant_details)\n",
    "P, N = bottom_clause_generation(constant_set = const, file=\"background_knowledge.pl\", \n",
    "                                container = \"dict\",\n",
    "                                positive_example=\"pos_example.f\", negative_example=[],\n",
    "                               positive_file_dictionary= \"abduce_foodweb_Pos_BC\")\n",
    "H=[\"abundance(X,S,D):-predator(X)&size_class(X,S1)&size_class(Y,S2)&bigger(X,Y)&abundance1(Y,S,D)&eats(X,Y)\"]\n",
    "abduce=['eats']\n",
    "coverage=pygol_abduction(P, abduce,  constant_set=const, \n",
    "                         meta_rule=H)\n",
    "print(coverage)"
   ]
  },
  {
   "cell_type": "markdown",
   "id": "b2c2b5a6",
   "metadata": {},
   "source": [
    "### Abduction using PyGol - Predictive Power"
   ]
  },
  {
   "cell_type": "code",
   "execution_count": 3,
   "id": "97252818",
   "metadata": {},
   "outputs": [],
   "source": [
    "H=[\"abundance(X,S,D):-predator(X)&size_class(X,S1)&size_class(Y,S2)&bigger(X,Y)&abundance1(Y,S,Dir)&eats(X,Y)\"]\n",
    "abduce=['eats']\n",
    "coverage=pygol_abduction(P, abduce,  constant_set=const, \n",
    "                         meta_rule=H, metric=\"predictive_power\")"
   ]
  },
  {
   "cell_type": "code",
   "execution_count": 4,
   "id": "79fbded1",
   "metadata": {},
   "outputs": [
    {
     "name": "stdout",
     "output_type": "stream",
     "text": [
      "Counter({'eats(a,b)': 18, 'eats(a,c)': 18, 'eats(a,d)': 18, 'eats(a,e)': 18, 'eats(a,f)': 18, 'eats(b,d)': 18, 'eats(b,e)': 18, 'eats(c,f)': 18, 'eats(b,c)': 12, 'eats(b,f)': 12, 'eats(c,d)': 12, 'eats(c,e)': 12})\n"
     ]
    }
   ],
   "source": [
    "print(coverage)"
   ]
  }
 ],
 "metadata": {
  "kernelspec": {
   "display_name": "Python 3 (ipykernel)",
   "language": "python",
   "name": "python3"
  },
  "language_info": {
   "codemirror_mode": {
    "name": "ipython",
    "version": 3
   },
   "file_extension": ".py",
   "mimetype": "text/x-python",
   "name": "python",
   "nbconvert_exporter": "python",
   "pygments_lexer": "ipython3",
   "version": "3.12.2"
  }
 },
 "nbformat": 4,
 "nbformat_minor": 5
}
